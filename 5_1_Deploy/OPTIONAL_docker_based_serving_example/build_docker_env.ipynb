{
 "cells": [
  {
   "cell_type": "code",
   "execution_count": 1,
   "id": "230bc67b-4119-47cc-9526-22b578897823",
   "metadata": {},
   "outputs": [
    {
     "name": "stderr",
     "output_type": "stream",
     "text": [
      "2022-02-21 20:09:29.936530: W tensorflow/stream_executor/platform/default/dso_loader.cc:64] Could not load dynamic library 'libcudart.so.11.0'; dlerror: libcudart.so.11.0: cannot open shared object file: No such file or directory\n",
      "2022-02-21 20:09:29.936555: I tensorflow/stream_executor/cuda/cudart_stub.cc:29] Ignore above cudart dlerror if you do not have a GPU set up on your machine.\n"
     ]
    }
   ],
   "source": [
    "import tensorflow as tf\n",
    "import getpass\n",
    "import os"
   ]
  },
  {
   "cell_type": "code",
   "execution_count": 2,
   "id": "dd762d1b-6454-4ce6-83b4-f3b6fb0ff01b",
   "metadata": {},
   "outputs": [
    {
     "name": "stdout",
     "output_type": "stream",
     "text": [
      "/home/adrian/Desktop/ML/tf_serve\n"
     ]
    }
   ],
   "source": [
    "!pwd # just for checking where we are now (change working directory if needed with %cd)"
   ]
  },
  {
   "cell_type": "code",
   "execution_count": 3,
   "id": "2853baca-357d-4276-bff7-41f4093cc6fd",
   "metadata": {},
   "outputs": [],
   "source": [
    "ROOT_DIR = os.getcwd()\n",
    "MODEL_PATH_TARGET_DIR = 'Deployment/vgg16'\n",
    "MODEL_PATH_TARGET_VERSION_DIR = os.path.join(MODEL_PATH_TARGET_DIR, '1')\n",
    "MODEL_TARGET_DIR_ABS_PATH = os.path.join(ROOT_DIR, MODEL_PATH_TARGET_DIR)"
   ]
  },
  {
   "cell_type": "code",
   "execution_count": 4,
   "id": "6e5da920-49ac-4bc8-8f10-36b4a9232214",
   "metadata": {},
   "outputs": [],
   "source": [
    "def run_sudo_command_cli(command):\n",
    "    password = getpass.getpass()\n",
    "    os.system('echo %s | %s' % (password, command))"
   ]
  },
  {
   "cell_type": "code",
   "execution_count": 5,
   "id": "34a7a2ee-2843-4858-a217-847102846c56",
   "metadata": {},
   "outputs": [],
   "source": [
    "def create_dir(target_dir):\n",
    "    \n",
    "    is_dir_path_exists = os.path.exists(target_dir)\n",
    "    if is_dir_path_exists:\n",
    "        pass\n",
    "    else:\n",
    "        os.makedirs(target_dir)\n",
    "\n",
    "\n",
    "create_dir(MODEL_PATH_TARGET_VERSION_DIR)"
   ]
  },
  {
   "cell_type": "code",
   "execution_count": 6,
   "id": "a3d0a7fd-9626-42fc-ba92-bdbba138f0c9",
   "metadata": {},
   "outputs": [
    {
     "name": "stderr",
     "output_type": "stream",
     "text": [
      "2022-02-21 20:09:43.066077: W tensorflow/stream_executor/platform/default/dso_loader.cc:64] Could not load dynamic library 'libcuda.so.1'; dlerror: libcuda.so.1: cannot open shared object file: No such file or directory\n",
      "2022-02-21 20:09:43.066120: W tensorflow/stream_executor/cuda/cuda_driver.cc:269] failed call to cuInit: UNKNOWN ERROR (303)\n",
      "2022-02-21 20:09:43.066146: I tensorflow/stream_executor/cuda/cuda_diagnostics.cc:156] kernel driver does not appear to be running on this host (adrian-Latitude-5491): /proc/driver/nvidia/version does not exist\n",
      "2022-02-21 20:09:43.066621: I tensorflow/core/platform/cpu_feature_guard.cc:151] This TensorFlow binary is optimized with oneAPI Deep Neural Network Library (oneDNN) to use the following CPU instructions in performance-critical operations:  AVX2 FMA\n",
      "To enable them in other operations, rebuild TensorFlow with the appropriate compiler flags.\n",
      "2022-02-21 20:09:43.247503: W tensorflow/core/framework/cpu_allocator_impl.cc:82] Allocation of 411041792 exceeds 10% of free system memory.\n",
      "2022-02-21 20:09:43.441515: W tensorflow/core/framework/cpu_allocator_impl.cc:82] Allocation of 411041792 exceeds 10% of free system memory.\n",
      "2022-02-21 20:09:43.493301: W tensorflow/core/framework/cpu_allocator_impl.cc:82] Allocation of 411041792 exceeds 10% of free system memory.\n",
      "2022-02-21 20:09:45.696986: W tensorflow/core/framework/cpu_allocator_impl.cc:82] Allocation of 411041792 exceeds 10% of free system memory.\n"
     ]
    }
   ],
   "source": [
    "# Downloading the vgg16 pretrained model for image classification \n",
    "# include_top=True means that we let the last layers weigths in\n",
    "model = tf.keras.applications.vgg16.VGG16(weights=\"imagenet\", include_top=True)"
   ]
  },
  {
   "cell_type": "code",
   "execution_count": 7,
   "id": "b3721f95-dcd1-410e-89a2-f50b8948ca26",
   "metadata": {},
   "outputs": [
    {
     "name": "stdout",
     "output_type": "stream",
     "text": [
      "Model: \"vgg16\"\n",
      "_________________________________________________________________\n",
      " Layer (type)                Output Shape              Param #   \n",
      "=================================================================\n",
      " input_1 (InputLayer)        [(None, 224, 224, 3)]     0         \n",
      "                                                                 \n",
      " block1_conv1 (Conv2D)       (None, 224, 224, 64)      1792      \n",
      "                                                                 \n",
      " block1_conv2 (Conv2D)       (None, 224, 224, 64)      36928     \n",
      "                                                                 \n",
      " block1_pool (MaxPooling2D)  (None, 112, 112, 64)      0         \n",
      "                                                                 \n",
      " block2_conv1 (Conv2D)       (None, 112, 112, 128)     73856     \n",
      "                                                                 \n",
      " block2_conv2 (Conv2D)       (None, 112, 112, 128)     147584    \n",
      "                                                                 \n",
      " block2_pool (MaxPooling2D)  (None, 56, 56, 128)       0         \n",
      "                                                                 \n",
      " block3_conv1 (Conv2D)       (None, 56, 56, 256)       295168    \n",
      "                                                                 \n",
      " block3_conv2 (Conv2D)       (None, 56, 56, 256)       590080    \n",
      "                                                                 \n",
      " block3_conv3 (Conv2D)       (None, 56, 56, 256)       590080    \n",
      "                                                                 \n",
      " block3_pool (MaxPooling2D)  (None, 28, 28, 256)       0         \n",
      "                                                                 \n",
      " block4_conv1 (Conv2D)       (None, 28, 28, 512)       1180160   \n",
      "                                                                 \n",
      " block4_conv2 (Conv2D)       (None, 28, 28, 512)       2359808   \n",
      "                                                                 \n",
      " block4_conv3 (Conv2D)       (None, 28, 28, 512)       2359808   \n",
      "                                                                 \n",
      " block4_pool (MaxPooling2D)  (None, 14, 14, 512)       0         \n",
      "                                                                 \n",
      " block5_conv1 (Conv2D)       (None, 14, 14, 512)       2359808   \n",
      "                                                                 \n",
      " block5_conv2 (Conv2D)       (None, 14, 14, 512)       2359808   \n",
      "                                                                 \n",
      " block5_conv3 (Conv2D)       (None, 14, 14, 512)       2359808   \n",
      "                                                                 \n",
      " block5_pool (MaxPooling2D)  (None, 7, 7, 512)         0         \n",
      "                                                                 \n",
      " flatten (Flatten)           (None, 25088)             0         \n",
      "                                                                 \n",
      " fc1 (Dense)                 (None, 4096)              102764544 \n",
      "                                                                 \n",
      " fc2 (Dense)                 (None, 4096)              16781312  \n",
      "                                                                 \n",
      " predictions (Dense)         (None, 1000)              4097000   \n",
      "                                                                 \n",
      "=================================================================\n",
      "Total params: 138,357,544\n",
      "Trainable params: 138,357,544\n",
      "Non-trainable params: 0\n",
      "_________________________________________________________________\n"
     ]
    }
   ],
   "source": [
    "model.summary()"
   ]
  },
  {
   "cell_type": "code",
   "execution_count": 8,
   "id": "f86dea38-1e1d-4dc6-9506-cf75fa14f68a",
   "metadata": {},
   "outputs": [],
   "source": [
    "# Set the weights and bias-es freezed \n",
    "for layer in model.layers: \n",
    "    layer.trainable = False"
   ]
  },
  {
   "cell_type": "code",
   "execution_count": 9,
   "id": "bf93d665-6785-4b16-8b6f-3fc2fc727b8c",
   "metadata": {},
   "outputs": [
    {
     "name": "stdout",
     "output_type": "stream",
     "text": [
      "Model: \"vgg16\"\n",
      "_________________________________________________________________\n",
      " Layer (type)                Output Shape              Param #   \n",
      "=================================================================\n",
      " input_1 (InputLayer)        [(None, 224, 224, 3)]     0         \n",
      "                                                                 \n",
      " block1_conv1 (Conv2D)       (None, 224, 224, 64)      1792      \n",
      "                                                                 \n",
      " block1_conv2 (Conv2D)       (None, 224, 224, 64)      36928     \n",
      "                                                                 \n",
      " block1_pool (MaxPooling2D)  (None, 112, 112, 64)      0         \n",
      "                                                                 \n",
      " block2_conv1 (Conv2D)       (None, 112, 112, 128)     73856     \n",
      "                                                                 \n",
      " block2_conv2 (Conv2D)       (None, 112, 112, 128)     147584    \n",
      "                                                                 \n",
      " block2_pool (MaxPooling2D)  (None, 56, 56, 128)       0         \n",
      "                                                                 \n",
      " block3_conv1 (Conv2D)       (None, 56, 56, 256)       295168    \n",
      "                                                                 \n",
      " block3_conv2 (Conv2D)       (None, 56, 56, 256)       590080    \n",
      "                                                                 \n",
      " block3_conv3 (Conv2D)       (None, 56, 56, 256)       590080    \n",
      "                                                                 \n",
      " block3_pool (MaxPooling2D)  (None, 28, 28, 256)       0         \n",
      "                                                                 \n",
      " block4_conv1 (Conv2D)       (None, 28, 28, 512)       1180160   \n",
      "                                                                 \n",
      " block4_conv2 (Conv2D)       (None, 28, 28, 512)       2359808   \n",
      "                                                                 \n",
      " block4_conv3 (Conv2D)       (None, 28, 28, 512)       2359808   \n",
      "                                                                 \n",
      " block4_pool (MaxPooling2D)  (None, 14, 14, 512)       0         \n",
      "                                                                 \n",
      " block5_conv1 (Conv2D)       (None, 14, 14, 512)       2359808   \n",
      "                                                                 \n",
      " block5_conv2 (Conv2D)       (None, 14, 14, 512)       2359808   \n",
      "                                                                 \n",
      " block5_conv3 (Conv2D)       (None, 14, 14, 512)       2359808   \n",
      "                                                                 \n",
      " block5_pool (MaxPooling2D)  (None, 7, 7, 512)         0         \n",
      "                                                                 \n",
      " flatten (Flatten)           (None, 25088)             0         \n",
      "                                                                 \n",
      " fc1 (Dense)                 (None, 4096)              102764544 \n",
      "                                                                 \n",
      " fc2 (Dense)                 (None, 4096)              16781312  \n",
      "                                                                 \n",
      " predictions (Dense)         (None, 1000)              4097000   \n",
      "                                                                 \n",
      "=================================================================\n",
      "Total params: 138,357,544\n",
      "Trainable params: 0\n",
      "Non-trainable params: 138,357,544\n",
      "_________________________________________________________________\n"
     ]
    }
   ],
   "source": [
    "# Chekking if freezed operation was successful (last row)\n",
    "model.summary()"
   ]
  },
  {
   "cell_type": "code",
   "execution_count": 10,
   "id": "87b12183-069b-452e-9b62-a8468f3a2a3a",
   "metadata": {},
   "outputs": [
    {
     "name": "stdout",
     "output_type": "stream",
     "text": [
      "WARNING:tensorflow:Compiled the loaded model, but the compiled metrics have yet to be built. `model.compile_metrics` will be empty until you train or evaluate the model.\n"
     ]
    },
    {
     "name": "stderr",
     "output_type": "stream",
     "text": [
      "2022-02-21 20:09:52.722096: W tensorflow/python/util/util.cc:368] Sets are not currently considered sequences, but this may change in the future, so consider avoiding using them.\n"
     ]
    },
    {
     "name": "stdout",
     "output_type": "stream",
     "text": [
      "INFO:tensorflow:Assets written to: Deployment/vgg16/1/assets\n"
     ]
    }
   ],
   "source": [
    "model.save(MODEL_PATH_TARGET_VERSION_DIR)"
   ]
  },
  {
   "cell_type": "code",
   "execution_count": 11,
   "id": "509bd422-c1f4-4fe5-96ab-0baebf43f74c",
   "metadata": {},
   "outputs": [
    {
     "name": "stdin",
     "output_type": "stream",
     "text": [
      " ···········\n"
     ]
    },
    {
     "name": "stderr",
     "output_type": "stream",
     "text": [
      "[sudo] password for adrian: "
     ]
    },
    {
     "name": "stdout",
     "output_type": "stream",
     "text": [
      "Using default tag: latest\n",
      "latest: Pulling from tensorflow/serving\n",
      "Digest: sha256:6651f4839e1124dbde75ee531825112af0a6b8ef082c88ab14ca53eb69a2e4bb\n",
      "Status: Image is up to date for tensorflow/serving:latest\n",
      "docker.io/tensorflow/serving:latest\n"
     ]
    }
   ],
   "source": [
    "run_sudo_command_cli(\"sudo -S docker pull tensorflow/serving\")"
   ]
  },
  {
   "cell_type": "code",
   "execution_count": 12,
   "id": "ca0db171-2f8d-4902-bc98-4c1590372c23",
   "metadata": {},
   "outputs": [
    {
     "name": "stdin",
     "output_type": "stream",
     "text": [
      " ···········\n"
     ]
    },
    {
     "name": "stderr",
     "output_type": "stream",
     "text": [
      "[sudo] password for adrian: "
     ]
    },
    {
     "name": "stdout",
     "output_type": "stream",
     "text": [
      "Reading package lists...\n",
      "Building dependency tree...\n",
      "Reading state information...\n",
      "tree is already the newest version (1.7.0-5).\n",
      "The following packages were automatically installed and are no longer required:\n",
      "  linux-hwe-5.4-headers-5.4.0-87 linux-hwe-5.4-headers-5.4.0-89\n",
      "  linux-hwe-5.4-headers-5.4.0-90 linux-hwe-5.4-headers-5.4.0-91\n",
      "  linux-hwe-5.4-headers-5.4.0-92 linux-hwe-5.4-headers-5.4.0-94\n",
      "Use 'sudo apt autoremove' to remove them.\n",
      "0 upgraded, 0 newly installed, 0 to remove and 141 not upgraded.\n"
     ]
    }
   ],
   "source": [
    "run_sudo_command_cli(\"sudo -S apt-get install tree\")"
   ]
  },
  {
   "cell_type": "code",
   "execution_count": 13,
   "id": "b5c0c5b8-c2e2-41d3-ad36-48ac6e0a91ce",
   "metadata": {},
   "outputs": [
    {
     "name": "stdout",
     "output_type": "stream",
     "text": [
      "\u001b[01;34mDeployment/vgg16\u001b[00m\n",
      "└── \u001b[01;34m1\u001b[00m\n",
      "    ├── \u001b[01;34massets\u001b[00m\n",
      "    ├── keras_metadata.pb\n",
      "    ├── saved_model.pb\n",
      "    └── \u001b[01;34mvariables\u001b[00m\n",
      "        ├── variables.data-00000-of-00001\n",
      "        └── variables.index\n",
      "\n",
      "3 directories, 4 files\n"
     ]
    }
   ],
   "source": [
    "!tree Deployment/vgg16"
   ]
  },
  {
   "cell_type": "code",
   "execution_count": null,
   "id": "0e728863-cd18-41a8-998a-f1d187f2d49d",
   "metadata": {},
   "outputs": [
    {
     "name": "stdin",
     "output_type": "stream",
     "text": [
      " ···········\n"
     ]
    },
    {
     "name": "stderr",
     "output_type": "stream",
     "text": [
      "[sudo] password for adrian: "
     ]
    },
    {
     "name": "stdin",
     "output_type": "stream",
     "text": [
      " ···········\n"
     ]
    },
    {
     "name": "stderr",
     "output_type": "stream",
     "text": [
      "[sudo] password for adrian: "
     ]
    },
    {
     "name": "stdout",
     "output_type": "stream",
     "text": [
      "2022-02-21 19:12:53.077103: I tensorflow_serving/model_servers/server.cc:89] Building single TensorFlow model file config:  model_name: vgg16 model_base_path: /models/vgg16\n",
      "2022-02-21 19:12:53.077352: I tensorflow_serving/model_servers/server_core.cc:465] Adding/updating models.\n",
      "2022-02-21 19:12:53.077376: I tensorflow_serving/model_servers/server_core.cc:591]  (Re-)adding model: vgg16\n",
      "2022-02-21 19:12:53.178372: I tensorflow_serving/core/basic_manager.cc:740] Successfully reserved resources to load servable {name: vgg16 version: 1}\n",
      "2022-02-21 19:12:53.178451: I tensorflow_serving/core/loader_harness.cc:66] Approving load for servable version {name: vgg16 version: 1}\n",
      "2022-02-21 19:12:53.178483: I tensorflow_serving/core/loader_harness.cc:74] Loading servable version {name: vgg16 version: 1}\n",
      "2022-02-21 19:12:53.178590: I external/org_tensorflow/tensorflow/cc/saved_model/reader.cc:38] Reading SavedModel from: /models/vgg16/1\n",
      "2022-02-21 19:12:53.201520: I external/org_tensorflow/tensorflow/cc/saved_model/reader.cc:90] Reading meta graph with tags { serve }\n",
      "2022-02-21 19:12:53.201610: I external/org_tensorflow/tensorflow/cc/saved_model/reader.cc:132] Reading SavedModel debug info (if present) from: /models/vgg16/1\n",
      "2022-02-21 19:12:53.201841: I external/org_tensorflow/tensorflow/core/platform/cpu_feature_guard.cc:142] This TensorFlow binary is optimized with oneAPI Deep Neural Network Library (oneDNN) to use the following CPU instructions in performance-critical operations:  AVX2 FMA\n",
      "To enable them in other operations, rebuild TensorFlow with the appropriate compiler flags.\n",
      "2022-02-21 19:12:53.267683: I external/org_tensorflow/tensorflow/cc/saved_model/loader.cc:206] Restoring SavedModel bundle.\n",
      "2022-02-21 19:12:53.270836: I external/org_tensorflow/tensorflow/core/platform/profile_utils/cpu_utils.cc:114] CPU Frequency: 2499950000 Hz\n",
      "2022-02-21 19:12:53.337294: W external/org_tensorflow/tensorflow/core/framework/cpu_allocator_impl.cc:80] Allocation of 411041792 exceeds 10% of free system memory.\n",
      "2022-02-21 19:12:53.606106: I external/org_tensorflow/tensorflow/cc/saved_model/loader.cc:190] Running initialization op on SavedModel bundle at path: /models/vgg16/1\n",
      "2022-02-21 19:12:53.625673: I external/org_tensorflow/tensorflow/cc/saved_model/loader.cc:277] SavedModel load for tags { serve }; Status: success: OK. Took 447085 microseconds.\n",
      "2022-02-21 19:12:53.628210: I tensorflow_serving/servables/tensorflow/saved_model_warmup_util.cc:59] No warmup data file found at /models/vgg16/1/assets.extra/tf_serving_warmup_requests\n",
      "2022-02-21 19:12:53.630296: I tensorflow_serving/core/loader_harness.cc:87] Successfully loaded servable version {name: vgg16 version: 1}\n",
      "2022-02-21 19:12:53.631572: I tensorflow_serving/model_servers/server_core.cc:486] Finished adding/updating models\n",
      "2022-02-21 19:12:53.631624: I tensorflow_serving/model_servers/server.cc:367] Profiler service is enabled\n",
      "2022-02-21 19:12:53.633064: I tensorflow_serving/model_servers/server.cc:393] Running gRPC ModelServer at 0.0.0.0:8500 ...\n",
      "[warn] getaddrinfo: address family for nodename not supported\n",
      "[evhttp_server.cc : 245] NET_LOG: Entering the event loop ...\n",
      "2022-02-21 19:12:53.634707: I tensorflow_serving/model_servers/server.cc:414] Exporting HTTP/REST API at:localhost:8501 ...\n"
     ]
    }
   ],
   "source": [
    "run_sudo_command_cli(\"sudo -S pkill docker*\")\n",
    "run_sudo_command_cli(f\"\"\"sudo -S docker run -p 8501:8501 -p 8500:8500 --mount type=bind,source={MODEL_TARGET_DIR_ABS_PATH},target=/models/vgg16 -e MODEL_NAME=vgg16 -t tensorflow/serving:latest\"\"\" )"
   ]
  },
  {
   "cell_type": "code",
   "execution_count": null,
   "id": "9fcbabc6-11d0-403e-bf5d-9cce6536fe8c",
   "metadata": {},
   "outputs": [],
   "source": [
    "test"
   ]
  }
 ],
 "metadata": {
  "kernelspec": {
   "display_name": "Python 3 (ipykernel)",
   "language": "python",
   "name": "python3"
  },
  "language_info": {
   "codemirror_mode": {
    "name": "ipython",
    "version": 3
   },
   "file_extension": ".py",
   "mimetype": "text/x-python",
   "name": "python",
   "nbconvert_exporter": "python",
   "pygments_lexer": "ipython3",
   "version": "3.8.12"
  }
 },
 "nbformat": 4,
 "nbformat_minor": 5
}
