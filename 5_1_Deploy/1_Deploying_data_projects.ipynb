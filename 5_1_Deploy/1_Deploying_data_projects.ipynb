{
 "cells": [
  {
   "cell_type": "markdown",
   "metadata": {
    "slideshow": {
     "slide_type": "slide"
    }
   },
   "source": [
    "# General considerations"
   ]
  },
  {
   "cell_type": "markdown",
   "metadata": {
    "slideshow": {
     "slide_type": "subslide"
    }
   },
   "source": [
    "## How is a data project structured?"
   ]
  },
  {
   "cell_type": "markdown",
   "metadata": {
    "slideshow": {
     "slide_type": "subslide"
    }
   },
   "source": [
    "### The steps _inside_ a data project\n",
    "<img src=\"http://drive.google.com/uc?export=view&id=16iaQgS0aCURH0FHJs-rPwI72n7Eq3nY_\" width=75%>"
   ]
  },
  {
   "cell_type": "markdown",
   "metadata": {
    "slideshow": {
     "slide_type": "subslide"
    }
   },
   "source": [
    "### But there is a larger context!\n",
    "\n",
    "<img src=\"https://upload.wikimedia.org/wikipedia/commons/thumb/b/b9/CRISP-DM_Process_Diagram.png/800px-CRISP-DM_Process_Diagram.png\" width=45%>\n",
    "\n",
    "[Cross-industry standard process for data mining](https://en.wikipedia.org/wiki/Cross-industry_standard_process_for_data_mining)"
   ]
  },
  {
   "cell_type": "markdown",
   "metadata": {
    "slideshow": {
     "slide_type": "subslide"
    }
   },
   "source": [
    "**STARTS from business relevance!!!**\n",
    "\n",
    "Actionability and usability is key!"
   ]
  },
  {
   "cell_type": "markdown",
   "metadata": {
    "slideshow": {
     "slide_type": "subslide"
    }
   },
   "source": [
    "### More detailed process\n",
    "\n",
    "<img src=\"http://drive.google.com/uc?export=view&id=1xSE3jvRsMwHnr3dpCv8ZP3DwMP2SzeA4\" width=75%>"
   ]
  },
  {
   "cell_type": "markdown",
   "metadata": {
    "slideshow": {
     "slide_type": "subslide"
    }
   },
   "source": [
    "### Who works on it?\n",
    "\n",
    "<img src=\"http://drive.google.com/uc?export=view&id=1MOUFo8VjcA4E1JvsxbC6LbXHnWeLCrP2\" width=75%>"
   ]
  },
  {
   "cell_type": "markdown",
   "metadata": {
    "slideshow": {
     "slide_type": "subslide"
    }
   },
   "source": [
    "### What is the \"end\" of it?\n",
    "\n",
    "Someone, be it the data scientist, but more often a service developer has to \"deliver\" the results of the data project."
   ]
  },
  {
   "cell_type": "markdown",
   "metadata": {
    "slideshow": {
     "slide_type": "subslide"
    }
   },
   "source": [
    "## What form can a data project be delivered?"
   ]
  },
  {
   "cell_type": "markdown",
   "metadata": {
    "slideshow": {
     "slide_type": "subslide"
    }
   },
   "source": [
    "### One time insight\n",
    "\n",
    "We had a vested interest in an answer in context of a _current_ business decision, which may be a one time event:\n",
    "\n",
    "Example. Based on past data, what will be the return on investment in case of this merger?\n",
    "\n",
    "(Should we buy this company now, or never?)\n",
    "\n",
    "In this case the circumstances will most likely never be repeating, and since M&A is not a daily activity in case of many companies, the deliverable of the data science activity is a one time analysis / prediction, which is consumed to fall one decision, and maybe never again."
   ]
  },
  {
   "cell_type": "markdown",
   "metadata": {
    "slideshow": {
     "slide_type": "subslide"
    }
   },
   "source": [
    "### Continuous decision support tool\n",
    "\n",
    "Most often, though, it is the case, that insights / predictions derived from data science activity are being consumed continuously. They can (and should) become tools for continuous decision support.\n",
    "\n",
    "Below are some typical forms of \"consumption\" for such data products:"
   ]
  },
  {
   "cell_type": "markdown",
   "metadata": {
    "slideshow": {
     "slide_type": "subslide"
    }
   },
   "source": [
    "#### Regular report\n",
    "\n",
    "Regularly, eg. every quarter management needs a report that summarizes, elaborates and/or predicts certain processes.\n",
    "\n",
    "The most frequent delivery mechanism for these kinds of data products is the generation of a static report.\n",
    "\n",
    "<img src=\"https://cdn.pixabay.com/photo/2018/09/07/14/42/download-pdf-3660827_960_720.png\" width=15%>\n",
    "\n"
   ]
  },
  {
   "cell_type": "markdown",
   "metadata": {
    "slideshow": {
     "slide_type": "subslide"
    }
   },
   "source": [
    "#### Dashboard\n",
    "\n",
    "It is also very often the case, that users have a need to access the data products in an interactive manner, so as to gain insights, \"dig deeper\", and base their decisions thereupon.\n",
    "\n",
    "The most frequent solution is this case some kind of dedicated data dashboard.\n",
    "\n",
    "<img src=\"https://i1.wp.com/artofwifi.net/wp-content/uploads/2018/10/Monthly_report_in_Acrobat.png?fit=1027%2C1022&ssl=1\" width=30%>"
   ]
  },
  {
   "cell_type": "markdown",
   "metadata": {
    "slideshow": {
     "slide_type": "subslide"
    }
   },
   "source": [
    "#### Integrated prediction\n",
    "\n",
    "It can also occur, that users would like to consume the predictions of data science models inside their normal workflow, eg. as a \"pre-populated field\" in the ERP system of the company. \n",
    "\n",
    "This approach requires heavier integration with the given system."
   ]
  },
  {
   "cell_type": "markdown",
   "metadata": {
    "slideshow": {
     "slide_type": "subslide"
    }
   },
   "source": [
    "### Automation solutions\n",
    "\n",
    "The distinguishing feature of such approaches is, that not just predictions, but some kind of actions are also part of the output of the data solution - like in control problems."
   ]
  },
  {
   "cell_type": "markdown",
   "metadata": {
    "slideshow": {
     "slide_type": "subslide"
    }
   },
   "source": [
    "#### Delivering automated predictions \"en masse\"\n",
    "\n",
    "One of the most widespread of such solutions is the case eg. of recommendation engines. It is not just  a prediction, that someone who liked this item, will like that also, but a potentially large mass of customers is being actively targeted by offering some products (eg. on a webshop).\n",
    "\n",
    "Arguably, the boundary between prediction and the \"action\" (recommending it) is getting quite blurry here."
   ]
  },
  {
   "cell_type": "markdown",
   "metadata": {
    "slideshow": {
     "slide_type": "subslide"
    }
   },
   "source": [
    "#### Executing controlling actions\n",
    "\n",
    "An even more clear cut and extreme case is, when in certain control environments software \"agents\", that were produced during the machine learning project are operated in live environments to take actions and control other systems.\n",
    "\n",
    "Some good examples: Industrial control agents, self-driving cars, ..."
   ]
  },
  {
   "cell_type": "markdown",
   "metadata": {
    "slideshow": {
     "slide_type": "subslide"
    }
   },
   "source": [
    "The latter two approaches highlight the essential need to form **reliable and scalable services** out of our data science models, so that they can operate robustly in external environments (be it a webshop or a road). "
   ]
  },
  {
   "cell_type": "markdown",
   "metadata": {
    "slideshow": {
     "slide_type": "slide"
    }
   },
   "source": [
    "# Tools for delivering results"
   ]
  },
  {
   "cell_type": "markdown",
   "metadata": {
    "slideshow": {
     "slide_type": "subslide"
    }
   },
   "source": [
    "## Solutions for one time insights\n",
    "\n",
    "One time insights are typically consumed in form of presentations and PDF-s.\n",
    "\n",
    "Luckily, with some clever formatting, Jupyter based data science environments can generate such PDF-s. In fact, that was one of their original design aims.\n",
    "\n",
    "Tools like [nbconvert](https://github.com/jupyter/nbconvert) are ideal for this purpose.\n"
   ]
  },
  {
   "cell_type": "markdown",
   "metadata": {
    "slideshow": {
     "slide_type": "subslide"
    }
   },
   "source": [
    "We can go even further with Jupyter based presentations.\n",
    "\n",
    "<img src=\"https://rise.readthedocs.io/en/stable/_images/basic_usage.gif\" width=75%>\n",
    "\n",
    "Fun: is it healthy to show an animation about rise in Jupyter, via [Rise](https://rise.readthedocs.io/en/stable/)? :-P\n",
    "\n",
    "In fact, complete online books can be produced with [JupyterBook](https://jupyterbook.org/intro.html)."
   ]
  },
  {
   "cell_type": "markdown",
   "metadata": {
    "slideshow": {
     "slide_type": "subslide"
    }
   },
   "source": [
    "## Dashboarding\n",
    "\n",
    "One of the most widespread solutions for delivering data products is to create a dashboard, where the users can interact with the analysis and predictions created during the data project.\n",
    "\n",
    "The amount of dashboard creation solutions is _enormous_, full fledged business analytics solutions exist, the discussion of which is out of scope for the current lecture.\n",
    "\n",
    "We restrict ourselves to pointing out, that the Python / Jupyter ecosystem has also some nice solutions for developing interactive applications.\n",
    "\n",
    "Two examples:"
   ]
  },
  {
   "cell_type": "markdown",
   "metadata": {
    "slideshow": {
     "slide_type": "subslide"
    }
   },
   "source": [
    "### [Streamlit](https://github.com/streamlit/streamlit)\n",
    "\n",
    "<img src=\"http://drive.google.com/uc?export=view&id=1hf-YMLJN194dUY8ipbzqFfafPQiLVz2l\"\n",
    " width=55%>"
   ]
  },
  {
   "cell_type": "markdown",
   "metadata": {
    "slideshow": {
     "slide_type": "subslide"
    }
   },
   "source": [
    "### [Voilá](https://github.com/voila-dashboards/voila)\n",
    "\n",
    "<img src=\"http://drive.google.com/uc?export=view&id=1TjCQ_GT58DQGDuj889wU4wSkyua9Nmil\"\n",
    "width=55%>"
   ]
  },
  {
   "cell_type": "markdown",
   "metadata": {
    "slideshow": {
     "slide_type": "subslide"
    }
   },
   "source": [
    "## Prediction service\n",
    "\n",
    "The most scalable way to make a data product available for consumption is to create a **prediction service** of it, which typically interacts with other software services, consumes inputs, and on request, produces predictions as outputs.\n",
    "\n",
    "These outputs then typically can be consumed by other software services for later use / display / decisions, ..."
   ]
  },
  {
   "cell_type": "markdown",
   "metadata": {
    "slideshow": {
     "slide_type": "subslide"
    }
   },
   "source": [
    "### Advantage of service based solutions\n",
    "\n",
    "The main advantage of a service based approach is, that a well defined service encapsulates functionality and **ensures independence** (eg. of programming language or environment) from all other services, thus the separate service **can run on dedicated infrastructure** (which in case of high computational demand or even special hardware requirements, like GPU-s is crucial). \n",
    "\n",
    "For ensuring scalability, this is a must."
   ]
  },
  {
   "cell_type": "markdown",
   "metadata": {
    "slideshow": {
     "slide_type": "subslide"
    }
   },
   "source": [
    "### General structure of a service\n",
    "\n",
    "The concept of software services is heavily influenced by the dominant practices of the Web. \n",
    "\n",
    "<img src=\"https://blogs.mulesoft.com/wp-content/uploads/apis-versus-web-services-1.png\" width=55%>\n",
    "\n",
    " "
   ]
  },
  {
   "cell_type": "markdown",
   "metadata": {
    "slideshow": {
     "slide_type": "subslide"
    }
   },
   "source": [
    "### Sidenote: Microservice architecture\n",
    "\n",
    "It is worth mentioning, that the mere notion of \"corporate software\" is undergoing a shift, since the advent of \"web scale\" companies made it necessary to develop new approaches to software craftshmanship, that changed the view and best practices of software development."
   ]
  },
  {
   "cell_type": "markdown",
   "metadata": {
    "slideshow": {
     "slide_type": "subslide"
    }
   },
   "source": [
    "The \"traditional\" approach envisioned software as a complex \"monolith\" structure, that encompasses all the functionality needed.\n",
    "\n",
    "<img src=\"http://drive.google.com/uc?export=view&id=1a4PpNrnWURjxehvgB9_odInHpnJZD_6P\" width=15%>"
   ]
  },
  {
   "cell_type": "markdown",
   "metadata": {
    "slideshow": {
     "slide_type": "subslide"
    }
   },
   "source": [
    "The current view is shifted towards understanding a software environment as the web of interconnected software services.\n",
    "\n",
    "<img src=\"http://drive.google.com/uc?export=view&id=1yo-HNwnBWfKAzBU8G8xWChdAsYK78Q4Y\" width=55%>"
   ]
  },
  {
   "cell_type": "markdown",
   "metadata": {
    "slideshow": {
     "slide_type": "subslide"
    }
   },
   "source": [
    "This allows for the decoupled, quasi independent development and scaling of the separate services, and has even implications on the organizational structure, see eg. [the spotify model for scaling agile](https://medium.com/serious-scrum/spotify-engineering-culture-spotify-model-an-introduction-500837f04010) or on infrastructure operations (see: [containers](https://medium.com/@lakwarus/containers-a-paradigm-shift-614ee3b88372).\n",
    "\n",
    "<img src=\"http://drive.google.com/uc?export=view&id=1nCPUaBNIPQXP5XmgYIrW8WbZJJJzeNQm\" width=65%>\n",
    "\n",
    "[Source](https://microservices.io/patterns/decomposition/service-per-team.html)"
   ]
  },
  {
   "cell_type": "markdown",
   "metadata": {
    "slideshow": {
     "slide_type": "subslide"
    }
   },
   "source": [
    "### Anatomy of a webservice\n",
    "\n",
    "<img src=\"http://drive.google.com/uc?export=view&id=1xvyRJzdhuBKwtmA2mWZNM79zgpOxFsfv\" width=45%>\n",
    "\n",
    "[(source)](https://web.archive.org/web/20180817201622/http://ericmacdougall.com/microservices-02-anatomy-of-a-microservice/)\n",
    "This looks quite scary, but let's focus only on the \"logic\" part! "
   ]
  },
  {
   "cell_type": "markdown",
   "metadata": {
    "slideshow": {
     "slide_type": "subslide"
    }
   },
   "source": [
    "### How to create a service from a model?\n",
    "\n",
    "<img src=\"http://drive.google.com/uc?export=view&id=1zG_ZkATkil6XoW7fe5pUsv31Xkvzjfyb\" width=80%>"
   ]
  },
  {
   "cell_type": "markdown",
   "metadata": {
    "slideshow": {
     "slide_type": "subslide"
    }
   },
   "source": [
    "The above example used [Flask](https://github.com/pallets/flask) as an easy and flexible webserver tool, Luckily, deploying such applications has a nice stack available.\n",
    "\n",
    "<img src=\"https://miro.medium.com/max/2692/1*nFxyDwJ2DEH1G5PMKPMj1g.png\" width=55%>"
   ]
  },
  {
   "cell_type": "markdown",
   "metadata": {
    "slideshow": {
     "slide_type": "subslide"
    }
   },
   "source": [
    "### Some additional tooling \n",
    "\n",
    "If one has to produce more scalable code, and would not like to bother with implementing much of the \"boilerplate\" that is needed for such a service, there are nice tools, like [FastAPI](https://fastapi.tiangolo.com/) available, that make service development a nice experience.\n",
    "\n",
    "A nice \"walkthrough\" of building a Keras based ML service can be found [here](https://medium.com/analytics-vidhya/deploy-machine-learning-models-with-keras-fastapi-redis-and-docker-4940df614ece).\n",
    "\n",
    "A good introduction to FastAPI can be found [here](https://www.youtube.com/watch?v=3DLwPcrE5mA)."
   ]
  },
  {
   "cell_type": "markdown",
   "metadata": {
    "slideshow": {
     "slide_type": "subslide"
    }
   },
   "source": [
    "### \"...at Google scale...\"\n",
    "\n",
    "Clearly, the challenge of operating machine learning models at \"web scale\" were clear from the perspective of framework developers. \n",
    "\n",
    "Thus, eg. the Tensorflow ecosystem incorporates a library called [Tensorflow Serving](https://www.tensorflow.org/tfx/guide/serving), just for this exact purpose.   "
   ]
  },
  {
   "cell_type": "markdown",
   "metadata": {
    "slideshow": {
     "slide_type": "subslide"
    }
   },
   "source": [
    "#### The TF ecosystem\n",
    "<img src=\"http://drive.google.com/uc?export=view&id=18sayJe87HgVX1UpLeLDucX6TsWQoI9xt\" width=75%>"
   ]
  },
  {
   "cell_type": "markdown",
   "metadata": {
    "slideshow": {
     "slide_type": "subslide"
    }
   },
   "source": [
    "#### The goals of TF Serving\n",
    "\n",
    "<img src=\"http://drive.google.com/uc?export=view&id=1nWyoXsOxlQ_t0nBho0JsjDOat6ZveJ97\" width=50%>"
   ]
  },
  {
   "cell_type": "markdown",
   "metadata": {
    "slideshow": {
     "slide_type": "subslide"
    }
   },
   "source": [
    "#### The architecture of TF Serving \n",
    "<img src=\"http://drive.google.com/uc?export=view&id=1soU6nslbx4NinZVE7HxcRAu4-UErNF4s\" width=55%>\n",
    "\n",
    "TF Serving can be considered an end-to-end solution for scalable deployment.\n",
    "\n",
    "[Introduction to Tensorflow Serving](https://www.youtube.com/watch?v=q_IkJcPyNl0)"
   ]
  },
  {
   "cell_type": "markdown",
   "metadata": {
    "slideshow": {
     "slide_type": "slide"
    }
   },
   "source": [
    "# “NEVER DEPLOY AN ML MODEL ONCE!”"
   ]
  },
  {
   "cell_type": "markdown",
   "metadata": {
    "slideshow": {
     "slide_type": "subslide"
    }
   },
   "source": [
    "“You should never deploy a machine learning model once\\,\n",
    "\n",
    "you should __deploy it never\\, or prepare to deploy it over and over again\\!__ ”\n",
    "\n",
    "“If the problem is not important enough to keep working on it and deploying new models\\, it is not important enough to pay the cost of putting it into production in the first  place\\.”\n",
    "\n",
    "Josh Wills, director of Data Engineering at Slack \n",
    "\n",
    "[Talk](https://www.youtube.com/watch?v=zbS9jBB8fz8&feature=emb_logo)"
   ]
  },
  {
   "cell_type": "markdown",
   "metadata": {
    "slideshow": {
     "slide_type": "subslide"
    }
   },
   "source": [
    "As discussed in the CRISP-DM model, we have to be prepared to continuously evaluate the performance (see eg.: [_What is your ML test score?_](https://storage.googleapis.com/pub-tools-public-publication-data/pdf/45742.pdf)) of our models, and if it degrades (or if business requirements change) to re-train and re-deploy it.\n",
    "\n",
    "Two aspects are crucial for this:\n",
    "\n",
    "- __Reproducible research__ and\n",
    "- __Continuous Delivery \\(CD\\) / Continuous Integration \\(CI\\)__ (See eg. [here](https://towardsdatascience.com/how-were-applying-ci-cd-principles-to-machine-learning-619ce3f1162c)\n",
    "\n",
    "These approaches are integral parts of a data science workflow.\n",
    "\n"
   ]
  },
  {
   "cell_type": "markdown",
   "metadata": {
    "slideshow": {
     "slide_type": "slide"
    }
   },
   "source": [
    "# Epilogue\n",
    "\n",
    "Please always remember the case how [Netflix never used its 1 million USD algorithm due to engineering cost](\n",
    "https://www.wired.com/2012/04/netflix-prize-costs/), thus, investigate deployability of models as early as possible!\n",
    "\n",
    "<img src=\"https://encrypted-tbn0.gstatic.com/images?q=tbn%3AANd9GcR_bX-M0LVMbLyS9R_hJXSWu75Rt_bYXeP4pw&usqp=CAU\" width=50%>\n",
    "\n"
   ]
  }
 ],
 "metadata": {
  "celltoolbar": "Slideshow",
  "kernelspec": {
   "display_name": "Python 3 (ipykernel)",
   "language": "python",
   "name": "python3"
  },
  "language_info": {
   "codemirror_mode": {
    "name": "ipython",
    "version": 3
   },
   "file_extension": ".py",
   "mimetype": "text/x-python",
   "name": "python",
   "nbconvert_exporter": "python",
   "pygments_lexer": "ipython3",
   "version": "3.8.12"
  },
  "toc": {
   "base_numbering": 1,
   "nav_menu": {},
   "number_sections": true,
   "sideBar": true,
   "skip_h1_title": false,
   "title_cell": "Table of Contents",
   "title_sidebar": "Contents",
   "toc_cell": false,
   "toc_position": {},
   "toc_section_display": true,
   "toc_window_display": false
  },
  "varInspector": {
   "cols": {
    "lenName": 16,
    "lenType": 16,
    "lenVar": 40
   },
   "kernels_config": {
    "python": {
     "delete_cmd_postfix": "",
     "delete_cmd_prefix": "del ",
     "library": "var_list.py",
     "varRefreshCmd": "print(var_dic_list())"
    },
    "r": {
     "delete_cmd_postfix": ") ",
     "delete_cmd_prefix": "rm(",
     "library": "var_list.r",
     "varRefreshCmd": "cat(var_dic_list()) "
    }
   },
   "types_to_exclude": [
    "module",
    "function",
    "builtin_function_or_method",
    "instance",
    "_Feature"
   ],
   "window_display": false
  }
 },
 "nbformat": 4,
 "nbformat_minor": 2
}
