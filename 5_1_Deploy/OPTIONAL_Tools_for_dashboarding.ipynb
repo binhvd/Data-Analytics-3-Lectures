{
 "cells": [
  {
   "cell_type": "markdown",
   "metadata": {
    "slideshow": {
     "slide_type": "slide"
    }
   },
   "source": [
    "# Problem setting\n",
    "\n",
    "Though Jupyter was designed with reproducibility in mind, it is none the less a tool for data scientists, thus, it is not ideally suited for delivering insights to a non-technical audience, especially in the form of interactive dashboards.\n",
    "\n",
    "Using [nbconvert](https://nbconvert.readthedocs.io/en/latest/) to generate HTML or PDF outputs, as well as utilizing [Rise](https://rise.readthedocs.io/en/stable/) for slideshow and PDF generation is very useful, but not scalable and interactive.\n",
    "\n",
    "In short: Jupyter is not by default a dashboarding tool, __but__..."
   ]
  },
  {
   "cell_type": "markdown",
   "metadata": {
    "slideshow": {
     "slide_type": "subslide"
    }
   },
   "source": [
    "# Jupyter notebooks in \"remote\" environments\n",
    "\n",
    "One of the main obstacles for non-technical audiences to consume Jupyter notebooks is the fact, that Python environments are not installed on their computers, so they can not \"open\" and \"render\" the notebooks. (Hence the need for eg. PDF conversion...)\n",
    "\n",
    "None the less, notebooks became such a strong standard, that displaying them is a more and more widespread capability.\n",
    "\n",
    "There are two possible ways / depth with which we would like to engage with a notebook: Only with the \"results\", thus, \"view only\", or also with a running kernel, thus \"interactively\"."
   ]
  },
  {
   "cell_type": "markdown",
   "metadata": {
    "slideshow": {
     "slide_type": "subslide"
    }
   },
   "source": [
    "## View only\n",
    "\n",
    "[Nbviewer](https://nbviewer.jupyter.org/) is a very nice service, that \"render\" a notebook, if it is made available via an URL.\n",
    "\n",
    "<img src=\"https://www.tutorialspoint.com/jupyter/images/nbviewer.jpg\" width=50%>\n",
    "\n",
    "Beside self-hosting, the most widespread approach is to use [Github](https://github.com/)repositories or \"Gists\" for hosting the file."
   ]
  },
  {
   "cell_type": "markdown",
   "metadata": {
    "slideshow": {
     "slide_type": "subslide"
    }
   },
   "source": [
    "This is so common, that [Github](https://github.com/) itself integrated notebook rendering capabilities.\n",
    "<img src=\"https://reproducible-science-curriculum.github.io/sharing-RR-Jupyter/fig/github-sharing-notebook-preview.png\" width=75%>"
   ]
  },
  {
   "cell_type": "markdown",
   "metadata": {
    "slideshow": {
     "slide_type": "subslide"
    }
   },
   "source": [
    "## Running kernel\n",
    "\n",
    "The previously discussed solutions were aiming at only rendering the notebooks as static \"result files\" and making them available via the web. But what if we would like to allow for any kind of interaction between the data / the model we built, and the users, we need a running kernel in the background.\n",
    "\n",
    "This - very sadly - requires us to think about the possible infrastructure and it's constraints.\n",
    "\n",
    "Luckily, there are some solutions we can use:"
   ]
  },
  {
   "cell_type": "markdown",
   "metadata": {
    "slideshow": {
     "slide_type": "subslide"
    }
   },
   "source": [
    "### Google Colab\n",
    "\n",
    "Google's [Colaboratory](https://colab.research.google.com/) is providing free resources (even GPUs) for research purposes, and uses Google Drive for persistent storage.\n",
    "\n",
    "For easy reproducibility, it is now customary to use Colab Github integration, or even a [Chrome extension](https://chrome.google.com/webstore/detail/open-in-colab/iogfkhleblhcpcekbiedikdehleodpjo?hl=nl) to directly open a notebook in a Colab environment.\n",
    "\n",
    "<img src=https://miro.medium.com/max/2020/1*M8ctWU_dqFpLXsB1Zg7CRQ.png width=55%>"
   ]
  },
  {
   "cell_type": "markdown",
   "metadata": {
    "slideshow": {
     "slide_type": "subslide"
    }
   },
   "source": [
    "### [Binder](https://mybinder.org/) \n",
    "\n",
    "Another, more customizable solution is Binder.\n",
    "\n",
    "<img src=\"https://miro.medium.com/max/2078/1*lWcoBaRvNzXxzGPqV_3vew.png\" width=50%>"
   ]
  },
  {
   "cell_type": "markdown",
   "metadata": {
    "slideshow": {
     "slide_type": "subslide"
    }
   },
   "source": [
    "Binder is strongly integrated with Github, and aims to enable the creation of reproducible environments \"on the go\". With some added configuration files in your project, you can define the dependencies and environment in which you would like to see your notebook running, thus anyone who clicks on the \"Launch Binder\" button will be commissioned a new virtual machine, with the appropriate environment. (Binder is a free and open solution, but since the source is available, can be adopted to corporate environments.)\n",
    "\n",
    "<img src=\"https://iiif.elifesciences.org/journal-cms/labs_experiment%2F2018-11%2Flaunch_binder.jpg/0,0,759,428/full/0/default.jpg\" width=15%>\n",
    "\n",
    "A nice tutorial on how to embed Binder based frames into a website can be found [here](https://elc.github.io/posts/embed-interactive-notebooks/). "
   ]
  },
  {
   "cell_type": "markdown",
   "metadata": {
    "slideshow": {
     "slide_type": "subslide"
    }
   },
   "source": [
    "Though popular, all the above mentioned solutions are primarily aiming at users with some technical skills, thus, mainly focusing on reproducibility and learning. \n",
    "\n",
    "If we would like to deliver more professional dashboard experience, we have to resort to other solutions."
   ]
  },
  {
   "cell_type": "markdown",
   "metadata": {
    "slideshow": {
     "slide_type": "slide"
    }
   },
   "source": [
    "# Creating dashboards with Jupyter"
   ]
  },
  {
   "cell_type": "markdown",
   "metadata": {
    "slideshow": {
     "slide_type": "subslide"
    }
   },
   "source": [
    "### Addons\n",
    "\n",
    "Even inside the strictly defined Jupyter ecosystem, there are  "
   ]
  },
  {
   "cell_type": "markdown",
   "metadata": {
    "slideshow": {
     "slide_type": "subslide"
    }
   },
   "source": [
    "#### Jupyter widgets\n",
    "\n",
    "Jupyter has a wide range of widgets, that can make a notebook mo"
   ]
  },
  {
   "cell_type": "code",
   "execution_count": 1,
   "metadata": {
    "ExecuteTime": {
     "end_time": "2020-08-28T11:09:39.586129Z",
     "start_time": "2020-08-28T11:09:39.551916Z"
    },
    "slideshow": {
     "slide_type": "subslide"
    }
   },
   "outputs": [
    {
     "data": {
      "application/vnd.jupyter.widget-view+json": {
       "model_id": "e61964ba7b2a495daf94868674f75647",
       "version_major": 2,
       "version_minor": 0
      },
      "text/plain": [
       "IntSlider(value=5, max=10)"
      ]
     },
     "metadata": {},
     "output_type": "display_data"
    },
    {
     "name": "stdout",
     "output_type": "stream",
     "text": [
      "6\n",
      "7\n"
     ]
    }
   ],
   "source": [
    "import ipywidgets as widgets\n",
    "from IPython.display import display\n",
    "\n",
    "x = 5\n",
    "slider = widgets.IntSlider(value=x, min=0, max=10)\n",
    "\n",
    "def on_change(v):\n",
    "    x = v['new']\n",
    "    print(v['new'])\n",
    "slider.observe(on_change, names='value')\n",
    "display(slider)"
   ]
  },
  {
   "cell_type": "code",
   "execution_count": 8,
   "metadata": {
    "ExecuteTime": {
     "end_time": "2020-08-28T11:21:23.931922Z",
     "start_time": "2020-08-28T11:21:23.848926Z"
    },
    "hide_input": false,
    "slideshow": {
     "slide_type": "subslide"
    }
   },
   "outputs": [
    {
     "name": "stdout",
     "output_type": "stream",
     "text": [
      "Warning: Cannot change to a different GUI toolkit: widget. Using notebook instead.\n"
     ]
    },
    {
     "data": {
      "application/javascript": [
       "/* Put everything inside the global mpl namespace */\n",
       "window.mpl = {};\n",
       "\n",
       "\n",
       "mpl.get_websocket_type = function() {\n",
       "    if (typeof(WebSocket) !== 'undefined') {\n",
       "        return WebSocket;\n",
       "    } else if (typeof(MozWebSocket) !== 'undefined') {\n",
       "        return MozWebSocket;\n",
       "    } else {\n",
       "        alert('Your browser does not have WebSocket support. ' +\n",
       "              'Please try Chrome, Safari or Firefox ≥ 6. ' +\n",
       "              'Firefox 4 and 5 are also supported but you ' +\n",
       "              'have to enable WebSockets in about:config.');\n",
       "    };\n",
       "}\n",
       "\n",
       "mpl.figure = function(figure_id, websocket, ondownload, parent_element) {\n",
       "    this.id = figure_id;\n",
       "\n",
       "    this.ws = websocket;\n",
       "\n",
       "    this.supports_binary = (this.ws.binaryType != undefined);\n",
       "\n",
       "    if (!this.supports_binary) {\n",
       "        var warnings = document.getElementById(\"mpl-warnings\");\n",
       "        if (warnings) {\n",
       "            warnings.style.display = 'block';\n",
       "            warnings.textContent = (\n",
       "                \"This browser does not support binary websocket messages. \" +\n",
       "                    \"Performance may be slow.\");\n",
       "        }\n",
       "    }\n",
       "\n",
       "    this.imageObj = new Image();\n",
       "\n",
       "    this.context = undefined;\n",
       "    this.message = undefined;\n",
       "    this.canvas = undefined;\n",
       "    this.rubberband_canvas = undefined;\n",
       "    this.rubberband_context = undefined;\n",
       "    this.format_dropdown = undefined;\n",
       "\n",
       "    this.image_mode = 'full';\n",
       "\n",
       "    this.root = $('<div/>');\n",
       "    this._root_extra_style(this.root)\n",
       "    this.root.attr('style', 'display: inline-block');\n",
       "\n",
       "    $(parent_element).append(this.root);\n",
       "\n",
       "    this._init_header(this);\n",
       "    this._init_canvas(this);\n",
       "    this._init_toolbar(this);\n",
       "\n",
       "    var fig = this;\n",
       "\n",
       "    this.waiting = false;\n",
       "\n",
       "    this.ws.onopen =  function () {\n",
       "            fig.send_message(\"supports_binary\", {value: fig.supports_binary});\n",
       "            fig.send_message(\"send_image_mode\", {});\n",
       "            if (mpl.ratio != 1) {\n",
       "                fig.send_message(\"set_dpi_ratio\", {'dpi_ratio': mpl.ratio});\n",
       "            }\n",
       "            fig.send_message(\"refresh\", {});\n",
       "        }\n",
       "\n",
       "    this.imageObj.onload = function() {\n",
       "            if (fig.image_mode == 'full') {\n",
       "                // Full images could contain transparency (where diff images\n",
       "                // almost always do), so we need to clear the canvas so that\n",
       "                // there is no ghosting.\n",
       "                fig.context.clearRect(0, 0, fig.canvas.width, fig.canvas.height);\n",
       "            }\n",
       "            fig.context.drawImage(fig.imageObj, 0, 0);\n",
       "        };\n",
       "\n",
       "    this.imageObj.onunload = function() {\n",
       "        fig.ws.close();\n",
       "    }\n",
       "\n",
       "    this.ws.onmessage = this._make_on_message_function(this);\n",
       "\n",
       "    this.ondownload = ondownload;\n",
       "}\n",
       "\n",
       "mpl.figure.prototype._init_header = function() {\n",
       "    var titlebar = $(\n",
       "        '<div class=\"ui-dialog-titlebar ui-widget-header ui-corner-all ' +\n",
       "        'ui-helper-clearfix\"/>');\n",
       "    var titletext = $(\n",
       "        '<div class=\"ui-dialog-title\" style=\"width: 100%; ' +\n",
       "        'text-align: center; padding: 3px;\"/>');\n",
       "    titlebar.append(titletext)\n",
       "    this.root.append(titlebar);\n",
       "    this.header = titletext[0];\n",
       "}\n",
       "\n",
       "\n",
       "\n",
       "mpl.figure.prototype._canvas_extra_style = function(canvas_div) {\n",
       "\n",
       "}\n",
       "\n",
       "\n",
       "mpl.figure.prototype._root_extra_style = function(canvas_div) {\n",
       "\n",
       "}\n",
       "\n",
       "mpl.figure.prototype._init_canvas = function() {\n",
       "    var fig = this;\n",
       "\n",
       "    var canvas_div = $('<div/>');\n",
       "\n",
       "    canvas_div.attr('style', 'position: relative; clear: both; outline: 0');\n",
       "\n",
       "    function canvas_keyboard_event(event) {\n",
       "        return fig.key_event(event, event['data']);\n",
       "    }\n",
       "\n",
       "    canvas_div.keydown('key_press', canvas_keyboard_event);\n",
       "    canvas_div.keyup('key_release', canvas_keyboard_event);\n",
       "    this.canvas_div = canvas_div\n",
       "    this._canvas_extra_style(canvas_div)\n",
       "    this.root.append(canvas_div);\n",
       "\n",
       "    var canvas = $('<canvas/>');\n",
       "    canvas.addClass('mpl-canvas');\n",
       "    canvas.attr('style', \"left: 0; top: 0; z-index: 0; outline: 0\")\n",
       "\n",
       "    this.canvas = canvas[0];\n",
       "    this.context = canvas[0].getContext(\"2d\");\n",
       "\n",
       "    var backingStore = this.context.backingStorePixelRatio ||\n",
       "\tthis.context.webkitBackingStorePixelRatio ||\n",
       "\tthis.context.mozBackingStorePixelRatio ||\n",
       "\tthis.context.msBackingStorePixelRatio ||\n",
       "\tthis.context.oBackingStorePixelRatio ||\n",
       "\tthis.context.backingStorePixelRatio || 1;\n",
       "\n",
       "    mpl.ratio = (window.devicePixelRatio || 1) / backingStore;\n",
       "\n",
       "    var rubberband = $('<canvas/>');\n",
       "    rubberband.attr('style', \"position: absolute; left: 0; top: 0; z-index: 1;\")\n",
       "\n",
       "    var pass_mouse_events = true;\n",
       "\n",
       "    canvas_div.resizable({\n",
       "        start: function(event, ui) {\n",
       "            pass_mouse_events = false;\n",
       "        },\n",
       "        resize: function(event, ui) {\n",
       "            fig.request_resize(ui.size.width, ui.size.height);\n",
       "        },\n",
       "        stop: function(event, ui) {\n",
       "            pass_mouse_events = true;\n",
       "            fig.request_resize(ui.size.width, ui.size.height);\n",
       "        },\n",
       "    });\n",
       "\n",
       "    function mouse_event_fn(event) {\n",
       "        if (pass_mouse_events)\n",
       "            return fig.mouse_event(event, event['data']);\n",
       "    }\n",
       "\n",
       "    rubberband.mousedown('button_press', mouse_event_fn);\n",
       "    rubberband.mouseup('button_release', mouse_event_fn);\n",
       "    // Throttle sequential mouse events to 1 every 20ms.\n",
       "    rubberband.mousemove('motion_notify', mouse_event_fn);\n",
       "\n",
       "    rubberband.mouseenter('figure_enter', mouse_event_fn);\n",
       "    rubberband.mouseleave('figure_leave', mouse_event_fn);\n",
       "\n",
       "    canvas_div.on(\"wheel\", function (event) {\n",
       "        event = event.originalEvent;\n",
       "        event['data'] = 'scroll'\n",
       "        if (event.deltaY < 0) {\n",
       "            event.step = 1;\n",
       "        } else {\n",
       "            event.step = -1;\n",
       "        }\n",
       "        mouse_event_fn(event);\n",
       "    });\n",
       "\n",
       "    canvas_div.append(canvas);\n",
       "    canvas_div.append(rubberband);\n",
       "\n",
       "    this.rubberband = rubberband;\n",
       "    this.rubberband_canvas = rubberband[0];\n",
       "    this.rubberband_context = rubberband[0].getContext(\"2d\");\n",
       "    this.rubberband_context.strokeStyle = \"#000000\";\n",
       "\n",
       "    this._resize_canvas = function(width, height) {\n",
       "        // Keep the size of the canvas, canvas container, and rubber band\n",
       "        // canvas in synch.\n",
       "        canvas_div.css('width', width)\n",
       "        canvas_div.css('height', height)\n",
       "\n",
       "        canvas.attr('width', width * mpl.ratio);\n",
       "        canvas.attr('height', height * mpl.ratio);\n",
       "        canvas.attr('style', 'width: ' + width + 'px; height: ' + height + 'px;');\n",
       "\n",
       "        rubberband.attr('width', width);\n",
       "        rubberband.attr('height', height);\n",
       "    }\n",
       "\n",
       "    // Set the figure to an initial 600x600px, this will subsequently be updated\n",
       "    // upon first draw.\n",
       "    this._resize_canvas(600, 600);\n",
       "\n",
       "    // Disable right mouse context menu.\n",
       "    $(this.rubberband_canvas).bind(\"contextmenu\",function(e){\n",
       "        return false;\n",
       "    });\n",
       "\n",
       "    function set_focus () {\n",
       "        canvas.focus();\n",
       "        canvas_div.focus();\n",
       "    }\n",
       "\n",
       "    window.setTimeout(set_focus, 100);\n",
       "}\n",
       "\n",
       "mpl.figure.prototype._init_toolbar = function() {\n",
       "    var fig = this;\n",
       "\n",
       "    var nav_element = $('<div/>');\n",
       "    nav_element.attr('style', 'width: 100%');\n",
       "    this.root.append(nav_element);\n",
       "\n",
       "    // Define a callback function for later on.\n",
       "    function toolbar_event(event) {\n",
       "        return fig.toolbar_button_onclick(event['data']);\n",
       "    }\n",
       "    function toolbar_mouse_event(event) {\n",
       "        return fig.toolbar_button_onmouseover(event['data']);\n",
       "    }\n",
       "\n",
       "    for(var toolbar_ind in mpl.toolbar_items) {\n",
       "        var name = mpl.toolbar_items[toolbar_ind][0];\n",
       "        var tooltip = mpl.toolbar_items[toolbar_ind][1];\n",
       "        var image = mpl.toolbar_items[toolbar_ind][2];\n",
       "        var method_name = mpl.toolbar_items[toolbar_ind][3];\n",
       "\n",
       "        if (!name) {\n",
       "            // put a spacer in here.\n",
       "            continue;\n",
       "        }\n",
       "        var button = $('<button/>');\n",
       "        button.addClass('ui-button ui-widget ui-state-default ui-corner-all ' +\n",
       "                        'ui-button-icon-only');\n",
       "        button.attr('role', 'button');\n",
       "        button.attr('aria-disabled', 'false');\n",
       "        button.click(method_name, toolbar_event);\n",
       "        button.mouseover(tooltip, toolbar_mouse_event);\n",
       "\n",
       "        var icon_img = $('<span/>');\n",
       "        icon_img.addClass('ui-button-icon-primary ui-icon');\n",
       "        icon_img.addClass(image);\n",
       "        icon_img.addClass('ui-corner-all');\n",
       "\n",
       "        var tooltip_span = $('<span/>');\n",
       "        tooltip_span.addClass('ui-button-text');\n",
       "        tooltip_span.html(tooltip);\n",
       "\n",
       "        button.append(icon_img);\n",
       "        button.append(tooltip_span);\n",
       "\n",
       "        nav_element.append(button);\n",
       "    }\n",
       "\n",
       "    var fmt_picker_span = $('<span/>');\n",
       "\n",
       "    var fmt_picker = $('<select/>');\n",
       "    fmt_picker.addClass('mpl-toolbar-option ui-widget ui-widget-content');\n",
       "    fmt_picker_span.append(fmt_picker);\n",
       "    nav_element.append(fmt_picker_span);\n",
       "    this.format_dropdown = fmt_picker[0];\n",
       "\n",
       "    for (var ind in mpl.extensions) {\n",
       "        var fmt = mpl.extensions[ind];\n",
       "        var option = $(\n",
       "            '<option/>', {selected: fmt === mpl.default_extension}).html(fmt);\n",
       "        fmt_picker.append(option);\n",
       "    }\n",
       "\n",
       "    // Add hover states to the ui-buttons\n",
       "    $( \".ui-button\" ).hover(\n",
       "        function() { $(this).addClass(\"ui-state-hover\");},\n",
       "        function() { $(this).removeClass(\"ui-state-hover\");}\n",
       "    );\n",
       "\n",
       "    var status_bar = $('<span class=\"mpl-message\"/>');\n",
       "    nav_element.append(status_bar);\n",
       "    this.message = status_bar[0];\n",
       "}\n",
       "\n",
       "mpl.figure.prototype.request_resize = function(x_pixels, y_pixels) {\n",
       "    // Request matplotlib to resize the figure. Matplotlib will then trigger a resize in the client,\n",
       "    // which will in turn request a refresh of the image.\n",
       "    this.send_message('resize', {'width': x_pixels, 'height': y_pixels});\n",
       "}\n",
       "\n",
       "mpl.figure.prototype.send_message = function(type, properties) {\n",
       "    properties['type'] = type;\n",
       "    properties['figure_id'] = this.id;\n",
       "    this.ws.send(JSON.stringify(properties));\n",
       "}\n",
       "\n",
       "mpl.figure.prototype.send_draw_message = function() {\n",
       "    if (!this.waiting) {\n",
       "        this.waiting = true;\n",
       "        this.ws.send(JSON.stringify({type: \"draw\", figure_id: this.id}));\n",
       "    }\n",
       "}\n",
       "\n",
       "\n",
       "mpl.figure.prototype.handle_save = function(fig, msg) {\n",
       "    var format_dropdown = fig.format_dropdown;\n",
       "    var format = format_dropdown.options[format_dropdown.selectedIndex].value;\n",
       "    fig.ondownload(fig, format);\n",
       "}\n",
       "\n",
       "\n",
       "mpl.figure.prototype.handle_resize = function(fig, msg) {\n",
       "    var size = msg['size'];\n",
       "    if (size[0] != fig.canvas.width || size[1] != fig.canvas.height) {\n",
       "        fig._resize_canvas(size[0], size[1]);\n",
       "        fig.send_message(\"refresh\", {});\n",
       "    };\n",
       "}\n",
       "\n",
       "mpl.figure.prototype.handle_rubberband = function(fig, msg) {\n",
       "    var x0 = msg['x0'] / mpl.ratio;\n",
       "    var y0 = (fig.canvas.height - msg['y0']) / mpl.ratio;\n",
       "    var x1 = msg['x1'] / mpl.ratio;\n",
       "    var y1 = (fig.canvas.height - msg['y1']) / mpl.ratio;\n",
       "    x0 = Math.floor(x0) + 0.5;\n",
       "    y0 = Math.floor(y0) + 0.5;\n",
       "    x1 = Math.floor(x1) + 0.5;\n",
       "    y1 = Math.floor(y1) + 0.5;\n",
       "    var min_x = Math.min(x0, x1);\n",
       "    var min_y = Math.min(y0, y1);\n",
       "    var width = Math.abs(x1 - x0);\n",
       "    var height = Math.abs(y1 - y0);\n",
       "\n",
       "    fig.rubberband_context.clearRect(\n",
       "        0, 0, fig.canvas.width / mpl.ratio, fig.canvas.height / mpl.ratio);\n",
       "\n",
       "    fig.rubberband_context.strokeRect(min_x, min_y, width, height);\n",
       "}\n",
       "\n",
       "mpl.figure.prototype.handle_figure_label = function(fig, msg) {\n",
       "    // Updates the figure title.\n",
       "    fig.header.textContent = msg['label'];\n",
       "}\n",
       "\n",
       "mpl.figure.prototype.handle_cursor = function(fig, msg) {\n",
       "    var cursor = msg['cursor'];\n",
       "    switch(cursor)\n",
       "    {\n",
       "    case 0:\n",
       "        cursor = 'pointer';\n",
       "        break;\n",
       "    case 1:\n",
       "        cursor = 'default';\n",
       "        break;\n",
       "    case 2:\n",
       "        cursor = 'crosshair';\n",
       "        break;\n",
       "    case 3:\n",
       "        cursor = 'move';\n",
       "        break;\n",
       "    }\n",
       "    fig.rubberband_canvas.style.cursor = cursor;\n",
       "}\n",
       "\n",
       "mpl.figure.prototype.handle_message = function(fig, msg) {\n",
       "    fig.message.textContent = msg['message'];\n",
       "}\n",
       "\n",
       "mpl.figure.prototype.handle_draw = function(fig, msg) {\n",
       "    // Request the server to send over a new figure.\n",
       "    fig.send_draw_message();\n",
       "}\n",
       "\n",
       "mpl.figure.prototype.handle_image_mode = function(fig, msg) {\n",
       "    fig.image_mode = msg['mode'];\n",
       "}\n",
       "\n",
       "mpl.figure.prototype.updated_canvas_event = function() {\n",
       "    // Called whenever the canvas gets updated.\n",
       "    this.send_message(\"ack\", {});\n",
       "}\n",
       "\n",
       "// A function to construct a web socket function for onmessage handling.\n",
       "// Called in the figure constructor.\n",
       "mpl.figure.prototype._make_on_message_function = function(fig) {\n",
       "    return function socket_on_message(evt) {\n",
       "        if (evt.data instanceof Blob) {\n",
       "            /* FIXME: We get \"Resource interpreted as Image but\n",
       "             * transferred with MIME type text/plain:\" errors on\n",
       "             * Chrome.  But how to set the MIME type?  It doesn't seem\n",
       "             * to be part of the websocket stream */\n",
       "            evt.data.type = \"image/png\";\n",
       "\n",
       "            /* Free the memory for the previous frames */\n",
       "            if (fig.imageObj.src) {\n",
       "                (window.URL || window.webkitURL).revokeObjectURL(\n",
       "                    fig.imageObj.src);\n",
       "            }\n",
       "\n",
       "            fig.imageObj.src = (window.URL || window.webkitURL).createObjectURL(\n",
       "                evt.data);\n",
       "            fig.updated_canvas_event();\n",
       "            fig.waiting = false;\n",
       "            return;\n",
       "        }\n",
       "        else if (typeof evt.data === 'string' && evt.data.slice(0, 21) == \"data:image/png;base64\") {\n",
       "            fig.imageObj.src = evt.data;\n",
       "            fig.updated_canvas_event();\n",
       "            fig.waiting = false;\n",
       "            return;\n",
       "        }\n",
       "\n",
       "        var msg = JSON.parse(evt.data);\n",
       "        var msg_type = msg['type'];\n",
       "\n",
       "        // Call the  \"handle_{type}\" callback, which takes\n",
       "        // the figure and JSON message as its only arguments.\n",
       "        try {\n",
       "            var callback = fig[\"handle_\" + msg_type];\n",
       "        } catch (e) {\n",
       "            console.log(\"No handler for the '\" + msg_type + \"' message type: \", msg);\n",
       "            return;\n",
       "        }\n",
       "\n",
       "        if (callback) {\n",
       "            try {\n",
       "                // console.log(\"Handling '\" + msg_type + \"' message: \", msg);\n",
       "                callback(fig, msg);\n",
       "            } catch (e) {\n",
       "                console.log(\"Exception inside the 'handler_\" + msg_type + \"' callback:\", e, e.stack, msg);\n",
       "            }\n",
       "        }\n",
       "    };\n",
       "}\n",
       "\n",
       "// from http://stackoverflow.com/questions/1114465/getting-mouse-location-in-canvas\n",
       "mpl.findpos = function(e) {\n",
       "    //this section is from http://www.quirksmode.org/js/events_properties.html\n",
       "    var targ;\n",
       "    if (!e)\n",
       "        e = window.event;\n",
       "    if (e.target)\n",
       "        targ = e.target;\n",
       "    else if (e.srcElement)\n",
       "        targ = e.srcElement;\n",
       "    if (targ.nodeType == 3) // defeat Safari bug\n",
       "        targ = targ.parentNode;\n",
       "\n",
       "    // jQuery normalizes the pageX and pageY\n",
       "    // pageX,Y are the mouse positions relative to the document\n",
       "    // offset() returns the position of the element relative to the document\n",
       "    var x = e.pageX - $(targ).offset().left;\n",
       "    var y = e.pageY - $(targ).offset().top;\n",
       "\n",
       "    return {\"x\": x, \"y\": y};\n",
       "};\n",
       "\n",
       "/*\n",
       " * return a copy of an object with only non-object keys\n",
       " * we need this to avoid circular references\n",
       " * http://stackoverflow.com/a/24161582/3208463\n",
       " */\n",
       "function simpleKeys (original) {\n",
       "  return Object.keys(original).reduce(function (obj, key) {\n",
       "    if (typeof original[key] !== 'object')\n",
       "        obj[key] = original[key]\n",
       "    return obj;\n",
       "  }, {});\n",
       "}\n",
       "\n",
       "mpl.figure.prototype.mouse_event = function(event, name) {\n",
       "    var canvas_pos = mpl.findpos(event)\n",
       "\n",
       "    if (name === 'button_press')\n",
       "    {\n",
       "        this.canvas.focus();\n",
       "        this.canvas_div.focus();\n",
       "    }\n",
       "\n",
       "    var x = canvas_pos.x * mpl.ratio;\n",
       "    var y = canvas_pos.y * mpl.ratio;\n",
       "\n",
       "    this.send_message(name, {x: x, y: y, button: event.button,\n",
       "                             step: event.step,\n",
       "                             guiEvent: simpleKeys(event)});\n",
       "\n",
       "    /* This prevents the web browser from automatically changing to\n",
       "     * the text insertion cursor when the button is pressed.  We want\n",
       "     * to control all of the cursor setting manually through the\n",
       "     * 'cursor' event from matplotlib */\n",
       "    event.preventDefault();\n",
       "    return false;\n",
       "}\n",
       "\n",
       "mpl.figure.prototype._key_event_extra = function(event, name) {\n",
       "    // Handle any extra behaviour associated with a key event\n",
       "}\n",
       "\n",
       "mpl.figure.prototype.key_event = function(event, name) {\n",
       "\n",
       "    // Prevent repeat events\n",
       "    if (name == 'key_press')\n",
       "    {\n",
       "        if (event.which === this._key)\n",
       "            return;\n",
       "        else\n",
       "            this._key = event.which;\n",
       "    }\n",
       "    if (name == 'key_release')\n",
       "        this._key = null;\n",
       "\n",
       "    var value = '';\n",
       "    if (event.ctrlKey && event.which != 17)\n",
       "        value += \"ctrl+\";\n",
       "    if (event.altKey && event.which != 18)\n",
       "        value += \"alt+\";\n",
       "    if (event.shiftKey && event.which != 16)\n",
       "        value += \"shift+\";\n",
       "\n",
       "    value += 'k';\n",
       "    value += event.which.toString();\n",
       "\n",
       "    this._key_event_extra(event, name);\n",
       "\n",
       "    this.send_message(name, {key: value,\n",
       "                             guiEvent: simpleKeys(event)});\n",
       "    return false;\n",
       "}\n",
       "\n",
       "mpl.figure.prototype.toolbar_button_onclick = function(name) {\n",
       "    if (name == 'download') {\n",
       "        this.handle_save(this, null);\n",
       "    } else {\n",
       "        this.send_message(\"toolbar_button\", {name: name});\n",
       "    }\n",
       "};\n",
       "\n",
       "mpl.figure.prototype.toolbar_button_onmouseover = function(tooltip) {\n",
       "    this.message.textContent = tooltip;\n",
       "};\n",
       "mpl.toolbar_items = [[\"Home\", \"Reset original view\", \"fa fa-home icon-home\", \"home\"], [\"Back\", \"Back to previous view\", \"fa fa-arrow-left icon-arrow-left\", \"back\"], [\"Forward\", \"Forward to next view\", \"fa fa-arrow-right icon-arrow-right\", \"forward\"], [\"\", \"\", \"\", \"\"], [\"Pan\", \"Pan axes with left mouse, zoom with right\", \"fa fa-arrows icon-move\", \"pan\"], [\"Zoom\", \"Zoom to rectangle\", \"fa fa-square-o icon-check-empty\", \"zoom\"], [\"\", \"\", \"\", \"\"], [\"Download\", \"Download plot\", \"fa fa-floppy-o icon-save\", \"download\"]];\n",
       "\n",
       "mpl.extensions = [\"eps\", \"jpeg\", \"pdf\", \"png\", \"ps\", \"raw\", \"svg\", \"tif\"];\n",
       "\n",
       "mpl.default_extension = \"png\";var comm_websocket_adapter = function(comm) {\n",
       "    // Create a \"websocket\"-like object which calls the given IPython comm\n",
       "    // object with the appropriate methods. Currently this is a non binary\n",
       "    // socket, so there is still some room for performance tuning.\n",
       "    var ws = {};\n",
       "\n",
       "    ws.close = function() {\n",
       "        comm.close()\n",
       "    };\n",
       "    ws.send = function(m) {\n",
       "        //console.log('sending', m);\n",
       "        comm.send(m);\n",
       "    };\n",
       "    // Register the callback with on_msg.\n",
       "    comm.on_msg(function(msg) {\n",
       "        //console.log('receiving', msg['content']['data'], msg);\n",
       "        // Pass the mpl event to the overridden (by mpl) onmessage function.\n",
       "        ws.onmessage(msg['content']['data'])\n",
       "    });\n",
       "    return ws;\n",
       "}\n",
       "\n",
       "mpl.mpl_figure_comm = function(comm, msg) {\n",
       "    // This is the function which gets called when the mpl process\n",
       "    // starts-up an IPython Comm through the \"matplotlib\" channel.\n",
       "\n",
       "    var id = msg.content.data.id;\n",
       "    // Get hold of the div created by the display call when the Comm\n",
       "    // socket was opened in Python.\n",
       "    var element = $(\"#\" + id);\n",
       "    var ws_proxy = comm_websocket_adapter(comm)\n",
       "\n",
       "    function ondownload(figure, format) {\n",
       "        window.open(figure.imageObj.src);\n",
       "    }\n",
       "\n",
       "    var fig = new mpl.figure(id, ws_proxy,\n",
       "                           ondownload,\n",
       "                           element.get(0));\n",
       "\n",
       "    // Call onopen now - mpl needs it, as it is assuming we've passed it a real\n",
       "    // web socket which is closed, not our websocket->open comm proxy.\n",
       "    ws_proxy.onopen();\n",
       "\n",
       "    fig.parent_element = element.get(0);\n",
       "    fig.cell_info = mpl.find_output_cell(\"<div id='\" + id + \"'></div>\");\n",
       "    if (!fig.cell_info) {\n",
       "        console.error(\"Failed to find cell for figure\", id, fig);\n",
       "        return;\n",
       "    }\n",
       "\n",
       "    var output_index = fig.cell_info[2]\n",
       "    var cell = fig.cell_info[0];\n",
       "\n",
       "};\n",
       "\n",
       "mpl.figure.prototype.handle_close = function(fig, msg) {\n",
       "    var width = fig.canvas.width/mpl.ratio\n",
       "    fig.root.unbind('remove')\n",
       "\n",
       "    // Update the output cell to use the data from the current canvas.\n",
       "    fig.push_to_output();\n",
       "    var dataURL = fig.canvas.toDataURL();\n",
       "    // Re-enable the keyboard manager in IPython - without this line, in FF,\n",
       "    // the notebook keyboard shortcuts fail.\n",
       "    IPython.keyboard_manager.enable()\n",
       "    $(fig.parent_element).html('<img src=\"' + dataURL + '\" width=\"' + width + '\">');\n",
       "    fig.close_ws(fig, msg);\n",
       "}\n",
       "\n",
       "mpl.figure.prototype.close_ws = function(fig, msg){\n",
       "    fig.send_message('closing', msg);\n",
       "    // fig.ws.close()\n",
       "}\n",
       "\n",
       "mpl.figure.prototype.push_to_output = function(remove_interactive) {\n",
       "    // Turn the data on the canvas into data in the output cell.\n",
       "    var width = this.canvas.width/mpl.ratio\n",
       "    var dataURL = this.canvas.toDataURL();\n",
       "    this.cell_info[1]['text/html'] = '<img src=\"' + dataURL + '\" width=\"' + width + '\">';\n",
       "}\n",
       "\n",
       "mpl.figure.prototype.updated_canvas_event = function() {\n",
       "    // Tell IPython that the notebook contents must change.\n",
       "    IPython.notebook.set_dirty(true);\n",
       "    this.send_message(\"ack\", {});\n",
       "    var fig = this;\n",
       "    // Wait a second, then push the new image to the DOM so\n",
       "    // that it is saved nicely (might be nice to debounce this).\n",
       "    setTimeout(function () { fig.push_to_output() }, 1000);\n",
       "}\n",
       "\n",
       "mpl.figure.prototype._init_toolbar = function() {\n",
       "    var fig = this;\n",
       "\n",
       "    var nav_element = $('<div/>');\n",
       "    nav_element.attr('style', 'width: 100%');\n",
       "    this.root.append(nav_element);\n",
       "\n",
       "    // Define a callback function for later on.\n",
       "    function toolbar_event(event) {\n",
       "        return fig.toolbar_button_onclick(event['data']);\n",
       "    }\n",
       "    function toolbar_mouse_event(event) {\n",
       "        return fig.toolbar_button_onmouseover(event['data']);\n",
       "    }\n",
       "\n",
       "    for(var toolbar_ind in mpl.toolbar_items){\n",
       "        var name = mpl.toolbar_items[toolbar_ind][0];\n",
       "        var tooltip = mpl.toolbar_items[toolbar_ind][1];\n",
       "        var image = mpl.toolbar_items[toolbar_ind][2];\n",
       "        var method_name = mpl.toolbar_items[toolbar_ind][3];\n",
       "\n",
       "        if (!name) { continue; };\n",
       "\n",
       "        var button = $('<button class=\"btn btn-default\" href=\"#\" title=\"' + name + '\"><i class=\"fa ' + image + ' fa-lg\"></i></button>');\n",
       "        button.click(method_name, toolbar_event);\n",
       "        button.mouseover(tooltip, toolbar_mouse_event);\n",
       "        nav_element.append(button);\n",
       "    }\n",
       "\n",
       "    // Add the status bar.\n",
       "    var status_bar = $('<span class=\"mpl-message\" style=\"text-align:right; float: right;\"/>');\n",
       "    nav_element.append(status_bar);\n",
       "    this.message = status_bar[0];\n",
       "\n",
       "    // Add the close button to the window.\n",
       "    var buttongrp = $('<div class=\"btn-group inline pull-right\"></div>');\n",
       "    var button = $('<button class=\"btn btn-mini btn-primary\" href=\"#\" title=\"Stop Interaction\"><i class=\"fa fa-power-off icon-remove icon-large\"></i></button>');\n",
       "    button.click(function (evt) { fig.handle_close(fig, {}); } );\n",
       "    button.mouseover('Stop Interaction', toolbar_mouse_event);\n",
       "    buttongrp.append(button);\n",
       "    var titlebar = this.root.find($('.ui-dialog-titlebar'));\n",
       "    titlebar.prepend(buttongrp);\n",
       "}\n",
       "\n",
       "mpl.figure.prototype._root_extra_style = function(el){\n",
       "    var fig = this\n",
       "    el.on(\"remove\", function(){\n",
       "\tfig.close_ws(fig, {});\n",
       "    });\n",
       "}\n",
       "\n",
       "mpl.figure.prototype._canvas_extra_style = function(el){\n",
       "    // this is important to make the div 'focusable\n",
       "    el.attr('tabindex', 0)\n",
       "    // reach out to IPython and tell the keyboard manager to turn it's self\n",
       "    // off when our div gets focus\n",
       "\n",
       "    // location in version 3\n",
       "    if (IPython.notebook.keyboard_manager) {\n",
       "        IPython.notebook.keyboard_manager.register_events(el);\n",
       "    }\n",
       "    else {\n",
       "        // location in version 2\n",
       "        IPython.keyboard_manager.register_events(el);\n",
       "    }\n",
       "\n",
       "}\n",
       "\n",
       "mpl.figure.prototype._key_event_extra = function(event, name) {\n",
       "    var manager = IPython.notebook.keyboard_manager;\n",
       "    if (!manager)\n",
       "        manager = IPython.keyboard_manager;\n",
       "\n",
       "    // Check for shift+enter\n",
       "    if (event.shiftKey && event.which == 13) {\n",
       "        this.canvas_div.blur();\n",
       "        // select the cell after this one\n",
       "        var index = IPython.notebook.find_cell_index(this.cell_info[0]);\n",
       "        IPython.notebook.select(index + 1);\n",
       "    }\n",
       "}\n",
       "\n",
       "mpl.figure.prototype.handle_save = function(fig, msg) {\n",
       "    fig.ondownload(fig, null);\n",
       "}\n",
       "\n",
       "\n",
       "mpl.find_output_cell = function(html_output) {\n",
       "    // Return the cell and output element which can be found *uniquely* in the notebook.\n",
       "    // Note - this is a bit hacky, but it is done because the \"notebook_saving.Notebook\"\n",
       "    // IPython event is triggered only after the cells have been serialised, which for\n",
       "    // our purposes (turning an active figure into a static one), is too late.\n",
       "    var cells = IPython.notebook.get_cells();\n",
       "    var ncells = cells.length;\n",
       "    for (var i=0; i<ncells; i++) {\n",
       "        var cell = cells[i];\n",
       "        if (cell.cell_type === 'code'){\n",
       "            for (var j=0; j<cell.output_area.outputs.length; j++) {\n",
       "                var data = cell.output_area.outputs[j];\n",
       "                if (data.data) {\n",
       "                    // IPython >= 3 moved mimebundle to data attribute of output\n",
       "                    data = data.data;\n",
       "                }\n",
       "                if (data['text/html'] == html_output) {\n",
       "                    return [cell, data, j];\n",
       "                }\n",
       "            }\n",
       "        }\n",
       "    }\n",
       "}\n",
       "\n",
       "// Register the function which deals with the matplotlib target/channel.\n",
       "// The kernel may be null if the page has been refreshed.\n",
       "if (IPython.notebook.kernel != null) {\n",
       "    IPython.notebook.kernel.comm_manager.register_target('matplotlib', mpl.mpl_figure_comm);\n",
       "}\n"
      ],
      "text/plain": [
       "<IPython.core.display.Javascript object>"
      ]
     },
     "metadata": {},
     "output_type": "display_data"
    },
    {
     "data": {
      "text/html": [
       "<img src=\"data:image/png;base64,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\" width=\"599.0370095562592\">"
      ],
      "text/plain": [
       "<IPython.core.display.HTML object>"
      ]
     },
     "metadata": {},
     "output_type": "display_data"
    },
    {
     "data": {
      "application/vnd.jupyter.widget-view+json": {
       "model_id": "405a606cfbf5481d9180ac7812be9f9f",
       "version_major": 2,
       "version_minor": 0
      },
      "text/plain": [
       "interactive(children=(IntSlider(value=1, description='w', max=10), FloatSlider(value=1.0, description='amp', m…"
      ]
     },
     "metadata": {},
     "output_type": "display_data"
    }
   ],
   "source": [
    "\n",
    "%matplotlib widget\n",
    "import numpy as np\n",
    "import matplotlib.pyplot as plt\n",
    "import ipywidgets as widgets\n",
    "\n",
    "# set up plot\n",
    "fig, ax = plt.subplots(figsize=(6, 4))\n",
    "ax.set_ylim([-4, 4])\n",
    "ax.grid(True)\n",
    "\n",
    "# generate x values\n",
    "x = np.linspace(0, 2 * np.pi, 100)\n",
    "\n",
    "def my_sine(x, w, amp, phi):\n",
    "    return amp*np.sin(w * (x-phi))\n",
    "\n",
    "@widgets.interact(w=(0, 10, 1), amp=(0, 4, .1), phi=(0, 2*np.pi+0.01, 0.01))\n",
    "def update(w = 1.0, amp=1, phi=0):\n",
    "    if not ax.lines:\n",
    "        ax.plot(x, my_sine(x, w, amp, phi), color='C0')\n",
    "    else:\n",
    "        ax.lines[0].set_ydata(my_sine(x, w, amp, phi))\n"
   ]
  },
  {
   "cell_type": "markdown",
   "metadata": {
    "slideshow": {
     "slide_type": "subslide"
    }
   },
   "source": [
    "If the cell above does not work, one can try `ipympl` with `conda install -c conda-forge ipympl` and lament on the fact, that maybe this is not the easiest solution to develop a dashboard app, after all...\n"
   ]
  },
  {
   "cell_type": "markdown",
   "metadata": {
    "slideshow": {
     "slide_type": "subslide"
    }
   },
   "source": [
    "#### [Jupyter dashboard layout](https://jupyter-dashboards-layout.readthedocs.io/en/latest/using.html) \n",
    "\n",
    "is an addon that enables the reshuffling, hiding and customization of notebook cells, so that they can form a decent dashboard, hiding the clutter.\n",
    "\n",
    "Together with the interactive widgets, they can form the basis of pretty nice dashboards!"
   ]
  },
  {
   "cell_type": "markdown",
   "metadata": {
    "slideshow": {
     "slide_type": "subslide"
    }
   },
   "source": [
    "<img src=\"https://jupyter-dashboards-layout.readthedocs.io/en/latest/_images/preview.png\" width=55%>"
   ]
  },
  {
   "cell_type": "markdown",
   "metadata": {
    "slideshow": {
     "slide_type": "subslide"
    }
   },
   "source": [
    "### More \"complete\" solutions\n",
    "\n",
    "If we are not that keen on \"puzzling\" together the desired interactions from widgets, and strive for some more  \"out of the box\" solutions that can finish the last mile, turning our notebook into a standalone web dashboard, we can look at something like [Voilá](https://github.com/voila-dashboards/voila), that, according to it's own motto:\n",
    "\n",
    "\"turns Jupyter notebooks into standalone web applications\"."
   ]
  },
  {
   "cell_type": "markdown",
   "metadata": {
    "slideshow": {
     "slide_type": "subslide"
    }
   },
   "source": [
    "<img src=\"https://miro.medium.com/max/3000/1*iBz5dUYHT5N9dbymPKTGCg.gif\" width=75%>"
   ]
  },
  {
   "cell_type": "markdown",
   "metadata": {
    "slideshow": {
     "slide_type": "subslide"
    }
   },
   "source": [
    "Or [Nbinteract](https://www.nbinteract.com/), which serves a very similar purpose."
   ]
  },
  {
   "cell_type": "markdown",
   "metadata": {
    "slideshow": {
     "slide_type": "slide"
    }
   },
   "source": [
    "# Interactively exploring models"
   ]
  },
  {
   "cell_type": "markdown",
   "metadata": {
    "slideshow": {
     "slide_type": "subslide"
    }
   },
   "source": [
    "For the very specific use case, when someone would like to interact with machine learning (especially deep learning) models, would like to edit the inputs and visualize their outputs, [Gradio](https://www.gradio.app/docs#o_html) can come in handy.\n",
    "\n",
    "It has built-in UI elements for the most widespread input and output types for ML models, allowing for easy interaction with models."
   ]
  },
  {
   "cell_type": "markdown",
   "metadata": {
    "slideshow": {
     "slide_type": "subslide"
    }
   },
   "source": [
    "<img src=\"https://camo.githubusercontent.com/285c5ddc7937125c000ccafe4519d86784d9f0b5/68747470733a2f2f692e6962622e636f2f6d30736b44306a2f626572742e676966\" width=75%>"
   ]
  },
  {
   "cell_type": "markdown",
   "metadata": {
    "slideshow": {
     "slide_type": "subslide"
    }
   },
   "source": [
    "<img src=\"https://www.googleapis.com/download/storage/v1/b/kaggle-user-content/o/inbox%2F2126721%2Fd91905bb419cdb121d92bbd4788aba81%2Fmnist.gif?generation=1594766845379238&alt=media\" qidth=75%>"
   ]
  },
  {
   "cell_type": "markdown",
   "metadata": {
    "slideshow": {
     "slide_type": "slide"
    }
   },
   "source": [
    "# Independent data apps"
   ]
  },
  {
   "cell_type": "markdown",
   "metadata": {
    "slideshow": {
     "slide_type": "subslide"
    }
   },
   "source": [
    "If we would like to have a complete framework for rapidly developing web based UI-s, luckily, we also have several options. One noteworthy amongst them is [Streamlit](https://www.streamlit.io/), which is especially designed for the **rapid development of data applications**."
   ]
  },
  {
   "cell_type": "markdown",
   "metadata": {
    "slideshow": {
     "slide_type": "subslide"
    }
   },
   "source": [
    "<video controls src=\"https://s3-us-west-2.amazonaws.com/assets.streamlit.io/videos/udacity_car_demo-2.mp4\" width=75%>"
   ]
  },
  {
   "cell_type": "markdown",
   "metadata": {
    "slideshow": {
     "slide_type": "subslide"
    }
   },
   "source": [
    "The above long list of solutions is by no means complete or final, since the data ecosystem is one of the most vibrant fields in software, newer and newer solutions are born every day. Keep an eye out!"
   ]
  }
 ],
 "metadata": {
  "celltoolbar": "Slideshow",
  "kernelspec": {
   "display_name": "Python 3",
   "language": "python",
   "name": "python3"
  },
  "language_info": {
   "codemirror_mode": {
    "name": "ipython",
    "version": 3
   },
   "file_extension": ".py",
   "mimetype": "text/x-python",
   "name": "python",
   "nbconvert_exporter": "python",
   "pygments_lexer": "ipython3",
   "version": "3.7.9"
  },
  "toc": {
   "base_numbering": 1,
   "nav_menu": {},
   "number_sections": true,
   "sideBar": true,
   "skip_h1_title": false,
   "title_cell": "Table of Contents",
   "title_sidebar": "Contents",
   "toc_cell": false,
   "toc_position": {},
   "toc_section_display": true,
   "toc_window_display": false
  },
  "varInspector": {
   "cols": {
    "lenName": 16,
    "lenType": 16,
    "lenVar": 40
   },
   "kernels_config": {
    "python": {
     "delete_cmd_postfix": "",
     "delete_cmd_prefix": "del ",
     "library": "var_list.py",
     "varRefreshCmd": "print(var_dic_list())"
    },
    "r": {
     "delete_cmd_postfix": ") ",
     "delete_cmd_prefix": "rm(",
     "library": "var_list.r",
     "varRefreshCmd": "cat(var_dic_list()) "
    }
   },
   "types_to_exclude": [
    "module",
    "function",
    "builtin_function_or_method",
    "instance",
    "_Feature"
   ],
   "window_display": false
  }
 },
 "nbformat": 4,
 "nbformat_minor": 2
}
