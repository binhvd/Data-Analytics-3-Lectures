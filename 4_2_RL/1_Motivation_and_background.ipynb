{
 "cells": [
  {
   "cell_type": "markdown",
   "id": "31347f34",
   "metadata": {},
   "source": [
    "(The discussion of this section is based in a large part on Russell and Norvig's classic account of the topic in their _Artificial Intelligence: A Modern Approach_ (ch. 3), and also, to a smaller extent, on Kleinberg and Tardos's _Algorithm Design_ (ch. 3).)\n",
    "\n",
    "# Problems as graph search tasks\n",
    "\n",
    "We can make the claim that a wide class of problems can be formulated as graph search more precise by considering that many problems can be construed in terms of the following elements:\n",
    "\n",
    "- There is a __state space__, a set of __states__, or \"configurations\" in which we are searching for a solution.\n",
    "- There is an __initial state__ in the state space, a starting point for exploring options.\n",
    "- In each state, there is a finite set of __actions__ (moves, operations) that can be made, and each of these actions leads to new -- not necessarily different -- states.\n",
    "- Moving from one state to an other using an action can be associated by an __action cost__, e.g., the time of the action.\n",
    "- Last, but not least, there must be a set of __goal states__, which are the solution(s) of the problem. This set can be specified simply by enumeration  or by a property which a state has to satisfy to be a goal state.\n",
    "\n",
    "What is a __solution__ in this framework? \n",
    "\n",
    "- It is not simply the goal state, which may be explicitly given, but a __path, i.e., a sequence of state transitions by way of actions leading to a goal state from the start state__. \n",
    "- An __optimal__ solution is a solution with the minimum total action cost.\n",
    "\n",
    "Notice that this type of formulation reduces a problem, however different it seems, to a __search task in a directed and weighted graph__:\n",
    "\n",
    "- the __nodes__ of the graph are the __states__, i.e., the elements of the __state space__,\n",
    "- the __directed edges__ correspond to concrete transitions that can be carried out by the available actions, and the \n",
    "- __edge weights__ are the costs associated by the state transition corresponding to the edge in question."
   ]
  },
  {
   "cell_type": "markdown",
   "id": "4e057ec8",
   "metadata": {},
   "source": [
    "## Examples\n",
    "\n",
    "A couple of toy and practically useful, \"serious\" examples of problems that can be formulated in these terms:"
   ]
  },
  {
   "cell_type": "markdown",
   "id": "39005c5a",
   "metadata": {},
   "source": [
    "__Sliding puzzles__\n",
    "\n",
    "Traditional sliding puzzles, like the sliding-15 puzzle:\n",
    "\n",
    "<a href=\"https://upload.wikimedia.org/wikipedia/commons/thumb/9/91/15-puzzle.svg/180px-15-puzzle.svg.png\"><img src=\"https://drive.google.com/uc?export=view&id=1PPXonimoWq1Kj71OTJjuClvsuzrYQIaQ\" width=\"150px\"></a>\n",
    "\n",
    "(Figure source: [Wikipedia](https://en.wikipedia.org/wiki/Sliding_puzzle))\n",
    "\n",
    "The formulation is straightforward:\n",
    "- __states__ are the possible configurations,\n",
    "- __actions__ are sliding a block to the available empty space from the possible directions.\n",
    "- all actions __cost__ 1: only the number of moves count."
   ]
  },
  {
   "cell_type": "markdown",
   "id": "741cba4f",
   "metadata": {},
   "source": [
    "__Eight queens puzzle__\n",
    "\n",
    "The goal is to place 8 queens on a chess board so that none of the queens threaten each other.\n",
    "\n",
    "<a href=\"http://yue-guo.com/wp-content/uploads/2019/02/N_queen.png\"><img src=\"https://drive.google.com/uc?export=view&id=1ZoArBxmRbsg19MHR72uag2DiP8nTxiN6\" width=\"250px\"></a>\n",
    "\n",
    "(Figure source: [Wikipedia](https://en.wikipedia.org/wiki/Eight_queens_puzzle))\n",
    "\n",
    "What is interesting is that problem formulation does not contain explicitly states and actions, but we can __reformulate__ it in this way, if we introduce the notion of __incrementally__ building up the solution. In this case we can say that\n",
    "\n",
    "- __states__ are chess board configurations with at most 8 queens on them (and nothing else);\n",
    "- __actions__ are placing a queen at a free position;\n",
    "- __the starting state__ is the empty chess board, __goal states__ are states when there are 8 queens and none of them threatens another.\n",
    "- There are no action costs, or, equivalently, all of them are 0.\n",
    "\n",
    "Obviously, this formulation is not economical with the number of states, because a lot of configurations are allowed which are obviously non-starters even as partial solutions. A more economical solution is to allow only states in which none of the queens are threatening each other, this considerably limits the number of available actions too."
   ]
  },
  {
   "cell_type": "markdown",
   "id": "6780df2b",
   "metadata": {},
   "source": [
    "__Route finding__\n",
    "\n",
    "<a href=\"https://upload.wikimedia.org/wikipedia/commons/thumb/3/3b/Shortest_path_with_direct_weights.svg/390px-Shortest_path_with_direct_weights.svg.png\"><img src=\"https://drive.google.com/uc?export=view&id=1zmW7MYUtOjuVdX_Mur0z8ilSg6XXE8uO\" width=\"300px\"></a>\n",
    "\n",
    "(Figure source: [Wikipedia](https://en.wikipedia.org/wiki/Shortest_path_problem))\n",
    "\n",
    "The problem is to travel \"optimally\" (in the shortest time or using minimal resources) from one point in a road network to another. \n",
    "This is perhaps the most obvious application:\n",
    "- __states__ are the network's nodes;\n",
    "- __start state__ and __goal states__ are from where to where we want to travel;\n",
    "- the __actions__ are traveling on a certain direct route between two points in the network;\n",
    "- the individual action __costs__ are the time/fuel etc. spent on directly traveling from a point to another on a given route."
   ]
  },
  {
   "cell_type": "markdown",
   "id": "bf164d99",
   "metadata": {},
   "source": [
    "__Touring problems__\n",
    "\n",
    "Not surprisingly, the TSP and similar \"touring problems\", in which there a set of locations to be visited can be formulated in this framework as well, but -- somewhat surprisingly -- the states are __not__ simply nodes in the road network. For this task, states have to have \"memory\" in the sense that \n",
    "\n",
    "+ a __state__ should be a node in the road network __coupled with__ the set of all locations that were already visited.\n",
    "\n",
    "The __goal states__ are those for which the current location and the already visited locations together contain all tour locations."
   ]
  },
  {
   "cell_type": "markdown",
   "id": "5f740a76",
   "metadata": {},
   "source": [
    "__Further \"real world problems\"__\n",
    "\n",
    "Shortest route finding and touring problems are not the only important \"real world\" problems that can be formulated in similar terms, of course frequently with significant abstractions and transformations: important further examples are\n",
    "\n",
    "+ __Integrated circuit layout__: in this problem circuit connections and components have to be positioned on a plane in a way that the connections conform to a prescribed logical circuit structure. Two subtasks are cell layout (arranging components in groups) and channel routing (placing the required connections in the remaining space between the components).\n",
    "\n",
    "+ __Robot navigation__: In a way this is a \"route finding\" problem, but the state space and even the action space is continuous, and the control of arms, legs etc. can further increase the complexity."
   ]
  },
  {
   "cell_type": "markdown",
   "id": "2fa815aa",
   "metadata": {},
   "source": [
    "# Basic search strategies in graphs\n",
    "\n",
    "How can we solve the graph search task? Let's start with the simplest case, in which we simply want to find a path from the start node to a goal node. "
   ]
  },
  {
   "cell_type": "markdown",
   "id": "c8a77c40",
   "metadata": {},
   "source": [
    "## Breadth-first search (BFS)\n",
    "\n",
    "Perhaps the simplest possible search strategy is the following: we explore the nodes reachable from our starting node __according to their distance, layer by layer__:\n",
    "- first those nodes are explored which are directly reachable from the starting node by an edge,\n",
    "- in the next stage we include all unexplored nodes that are directly reachable from the nodes we explored in the previous step,\n",
    "- and so on, until we reach a goal node, or no unexplored nodes remain.\n",
    "\n",
    "Simple physical analogy/interpretation: we \"flood\" the graph with water from the starting node.\n",
    "\n",
    "It is an important property of the algorithm that, in effect, it produces a __search tree__ during exploration:\n",
    "\n",
    "+ The __root__ of the search tree is the __starting node__, and\n",
    "+ the __nodes__ of the search tree hold/point to those nodes of the original graph which are reachable from the starting point,\n",
    "+ and for any graph node represented in the tree it holds that it was explored by following an edge from the graph node reference by its parent.\n",
    "\n",
    "A concrete example of a graph and a search tree associated with its breadth-first exploration:\n",
    "\n",
    "<a href=\"https://upload.wikimedia.org/wikipedia/commons/thumb/a/ad/MapGermanyGraph.svg/1024px-MapGermanyGraph.svg.png\"><img src=\"https://drive.google.com/uc?export=view&id=17nxfo9Oqeb-jdCYjLNtTDQoe-GiOzGpm\" width=\"400\"></a>"
   ]
  },
  {
   "cell_type": "markdown",
   "id": "41c2768c",
   "metadata": {},
   "source": [
    "<a href=\"https://upload.wikimedia.org/wikipedia/commons/thumb/6/63/GermanyBFS.svg/1280px-GermanyBFS.svg.png\"><img src=\"https://drive.google.com/uc?export=view&id=1y6G2q7_ThU4Jk4vrgDLJb_SlWaGR3hGR\" width=\"400\"></a>\n",
    "\n",
    "(Both figures are from Wikipedia's [BFS entry](https://en.wikipedia.org/wiki/Breadth-first_search))"
   ]
  },
  {
   "cell_type": "markdown",
   "id": "bc570f4e",
   "metadata": {},
   "source": [
    "Important properties of the BFS search tree:\n",
    "\n",
    "- __every graph node occurs only once__: this is ensured by the fact that we do not traverse to nodes that were already explored,\n",
    "- for any graph node in the search tree, the __tree path leading to the root__ contains the same nodes in the same order as __the shortest path in the graph__ between the starting node and the node in question. (Why? Because if there'd be a shorter path then the node would have been already explored in an earlier layer.)"
   ]
  },
  {
   "cell_type": "markdown",
   "id": "c6531859",
   "metadata": {},
   "source": [
    "## Depth-first search (DFS)\n",
    "\n",
    "An alternative, also very intuitive exploration strategy, which one would naturally use, e.g., in a maze, is to explore individual paths as far as possible, i.e., \n",
    "+ try out the first edge from the starting node,\n",
    "+ then continue with exploring the first edge from the node you reached, and so on, until you reached a node which is a __dead end__, in the sense that all nodes directly available from it had been already explored.\n",
    "+ when a dead end is reached, __backtrack__ to the first node from which an unexplored node can be reached, and continue the exploration in the same manner from there."
   ]
  },
  {
   "cell_type": "markdown",
   "id": "71b0d523",
   "metadata": {},
   "source": [
    "Similarly to BFS, the DFS strategy implicitly produces a __search tree__ during exploration. Examples of search trees for two simple (sub)graphs (nodes reachable from an edge are visited in alphabetical order):\n",
    "\n",
    "<a href=\"http://rosalind.info/media/dfsforest.png\"><img src=\"https://drive.google.com/uc?export=view&id=1OHEGHqF8gWoBFLPPO8UFiuMkjRrgCB6G\"></a>\n",
    "\n",
    "(Figure source: [ROSALIND Glossary: DFS](http://rosalind.info/glossary/algo-depth-first-search/))"
   ]
  },
  {
   "cell_type": "markdown",
   "id": "c38554bf",
   "metadata": {},
   "source": [
    "This exploration method can be described in a particularly simple way in a recursive form, using a set to keep track which nodes have been already explored. For the sake of simplicity, we assume that there is a function `neighbors` which returns a  list of all neighbors of a node in the graph."
   ]
  },
  {
   "cell_type": "markdown",
   "id": "212b3846",
   "metadata": {},
   "source": [
    "## Evolution of the search tree in BFS and DFS \n",
    "\n",
    "Let's look at the implementation of the two __exploration strategies__. Looking at how the search tree is developing, we can see that graph nodes can have three types of status in relation to the exploration and the corresponding search tree. A node can be\n",
    "\n",
    "- __(fully) explored__, i.e, __internal nodes__ of the search tree, with __all__ of their edges already examined/traversed during the process;\n",
    "- __at the frontier__, i.e. __leaves__ of the search tree that the exploration reached but not all of their edges were examined/traversed yet;\n",
    "- __(fully) unexplored__, i.e. not in the search tree yet, because it hasn't been reached."
   ]
  },
  {
   "cell_type": "markdown",
   "id": "7ad97ace",
   "metadata": {},
   "source": [
    "<a href=\"https://artint.info/figures/ch03/searchsp.gif\"><img src=\"https://drive.google.com/uc?export=view&id=1UXaVoRUmGgtb_2lgh4k0vOz8xe-9rj-8\"></a>"
   ]
  },
  {
   "cell_type": "markdown",
   "id": "7d5679d2",
   "metadata": {},
   "source": [
    "Once we introduce the the __frontier__ dynamic set (also called __open set__ by some), the difference between BFS and DFS can be formulated in terms of the order of exploring the nodes in this set:\n",
    "+ in DFS, once a node is added to the frontier (reached), its exploration soon begins, and backtracking is always to the last not fully processed node. In one word, the __frontier__ is explored on a LIFO basis, like a stack.\n",
    "+ in BFS, on the other hand, nodes added to the frontier are processed according to a FIFO order."
   ]
  },
  {
   "cell_type": "markdown",
   "id": "554e7b0a",
   "metadata": {},
   "source": [
    "(The material in this notebook is mostly based on Russell and Norvig's _Artificial Intelligence: a modern approach_ 3rd ed, Chapter 3)\n",
    "\n",
    "# Informed (heuristic) graph search strategies"
   ]
  },
  {
   "cell_type": "markdown",
   "id": "e4aaa1b8",
   "metadata": {},
   "source": [
    "The graph search variants we have discussed so far, i.e., breadth-first search, depth-first search (and the undiscussed Dijkstra's algorithm) had some important common characteristics: \n",
    "\n",
    "- they had the same general structure, the only difference was how they chose __which node to explore next from the frontier__ (which node to \"expand\")\n",
    "- they didn't use any additional information about the problem, only the __local information__ provided by exploring the graph from the starting node."
   ]
  },
  {
   "cell_type": "markdown",
   "id": "1480ae07",
   "metadata": {},
   "source": [
    "__Informed search strategies__, in contrast, make use of additional information, they choose the next node to explore based on some problem-specific evaluation function.\n",
    "\n",
    "__Evaluation function__\n",
    "\n",
    "Evaluation functions are typically __cost estimations__, the estimation of the cost of the path(s) from the initial state to the goal through the node in question, so these informed strategies seek to somehow __minimize__ the evaluation function.\n",
    "\n",
    "__Heuristic function__\n",
    "\n",
    "One component of the used evaluation functions is frequently a so-called __heuristic function__ $h(\\cdot)$, which estimates the __cost of the cheapest path between a node and the goal set__. We will discuss some examples later, but one very intuitive example is the case when the graph is a road map and the heuristic function is simply the __straight line distance__ between nodes and the goal node(s).\n"
   ]
  },
  {
   "cell_type": "markdown",
   "id": "92331167",
   "metadata": {},
   "source": [
    "## Greedy best-first search\n",
    "\n",
    "This search strategy \n",
    "\n",
    "+ uses simply a $h(\\cdot)$ heuristic function as the evaluation function,\n",
    "+ and uses the same priority-queue based algorithm as our implementation of Dijkstra's algorithm -- the only difference is that priorities are now simply the values of the heuristic function:"
   ]
  },
  {
   "cell_type": "code",
   "execution_count": 15,
   "id": "721650e2",
   "metadata": {},
   "outputs": [],
   "source": [
    "%%capture\n",
    "! pip install heapdict\n",
    "! pip install treelib\n",
    "from treelib import Tree\n",
    "from heapdict import heapdict"
   ]
  },
  {
   "cell_type": "code",
   "execution_count": 2,
   "id": "2cbf89bd",
   "metadata": {},
   "outputs": [],
   "source": [
    "def root_to_node_path(tree, node):\n",
    "    path = [node.tag]\n",
    "    while node.predecessor(tree.identifier):\n",
    "        node = tree.get_node(node.predecessor(tree.identifier))\n",
    "        path.append(node.tag)\n",
    "    return path[::-1]"
   ]
  },
  {
   "cell_type": "code",
   "execution_count": 20,
   "id": "dfd044dc",
   "metadata": {},
   "outputs": [],
   "source": [
    "def greedy_best_first(s):\n",
    "    search_tree = Tree()\n",
    "    explored = set() # a set containing explored nodes\n",
    "    start_node = search_tree.create_node(tag = s) \n",
    "    if is_goal(s): return search_tree, start_node\n",
    "    frontier = heapdict() # priority key with changable priorities\n",
    "    frontier[start_node] = heur(s) # we add the starting search tree node to the queue (priority doesn't really matter)\n",
    "    while frontier:\n",
    "        current, current_heur = frontier.popitem() # we pop the closest node!\n",
    "        print(\"Exploring\", current.tag, \"with heuristic value\", current_heur)\n",
    "        if is_goal(current.tag): \n",
    "            print(\"A goal has been found!\")\n",
    "            return search_tree, new_node\n",
    "        for n in neighbors(current.tag):\n",
    "            heur_val = heur(n)\n",
    "            # If node hasn't been looked at yet we just add it to the frontier with its distance as priority\n",
    "            if not n in explored and n not in [n.tag for n in frontier.keys()]: \n",
    "                new_node = search_tree.create_node(tag = n, parent = current)                \n",
    "                frontier[new_node] = heur_val\n",
    "            # If the node is already in the frontier with higher distance we have to replace it!\n",
    "            elif n in [st_node.tag for st_node in frontier.keys()]: # node is already in the frontier\n",
    "                st_node_w_n = next(st_node for st_node in frontier.keys() if st_node.tag == n) # find the entry\n",
    "                if frontier[st_node_w_n] > heur_val: # if it's further than where we are now\n",
    "                    del(frontier[st_node_w_n]) # remove it from the frontier\n",
    "                    search_tree.remove_node(st_node_w_n.identifier) # (optionally) remove it also from the search tree\n",
    "                    new_node = search_tree.create_node(tag = n, parent = current) # and add a new search tree node\n",
    "                    frontier[new_node] = heur_val\n",
    "        explored.add(current.tag)"
   ]
  },
  {
   "cell_type": "markdown",
   "id": "289721b5",
   "metadata": {},
   "source": [
    "Let's see how the algorithm works with straight line distances!\n",
    "\n",
    "<a href=\"https://upload.wikimedia.org/wikipedia/commons/thumb/a/ad/MapGermanyGraph.svg/1024px-MapGermanyGraph.svg.png\"><img src=\"https://drive.google.com/uc?export=view&id=17nxfo9Oqeb-jdCYjLNtTDQoe-GiOzGpm\" width=\"400\"></a>"
   ]
  },
  {
   "cell_type": "code",
   "execution_count": 19,
   "id": "9aa065b5",
   "metadata": {},
   "outputs": [],
   "source": [
    "munchen_dists = {\"Frankfurt\": 304,\n",
    "                 \"Mannheim\": 273,\n",
    "                 \"Würzburg\": 220,\n",
    "                 \"Stuttgart\": 191,\n",
    "                 \"Karlsruhe\": 253,\n",
    "                 \"Erfurt\":319,\n",
    "                 \"Nürnberg\": 151,\n",
    "                 \"Kassel\": 384,\n",
    "                 \"Augsburg\": 56, \n",
    "                 \"München\": 0}\n",
    "\n",
    "def heur(n):\n",
    "    return munchen_dists[n]"
   ]
  },
  {
   "cell_type": "code",
   "execution_count": 12,
   "id": "b467881c",
   "metadata": {},
   "outputs": [],
   "source": [
    "adjacencies = {\"Frankfurt\": [\"Mannheim\", \"Würzburg\", \"Kassel\"],\n",
    "               \"Mannheim\": [\"Karlsruhe\", \"Frankfurt\"],\n",
    "               \"Würzburg\": [\"Erfurt\", \"Nürnberg\", \"Frankfurt\"],\n",
    "               \"Stuttgart\": [\"Nürnberg\"],\n",
    "               \"Kassel\": [\"Frankfurt\", \"München\"],\n",
    "               \"Karlsruhe\": [\"Mannheim\", \"Augsburg\"],\n",
    "               \"Erfurt\": [\"Würzburg\"],\n",
    "               \"Nürnberg\": [\"Würzburg\", \"Stuttgart\", \"München\"],\n",
    "               \"Augsburg\": [\"Karlsruhe\", \"München\"],\n",
    "               \"München\": [\"Augsburg\", \"Nürnberg\", \"Kassel\"]}\n",
    "\n",
    "def neighbors(x):\n",
    "    return adjacencies[x]"
   ]
  },
  {
   "cell_type": "code",
   "execution_count": 21,
   "id": "8aeaadf4",
   "metadata": {},
   "outputs": [
    {
     "name": "stdout",
     "output_type": "stream",
     "text": [
      "Exploring Frankfurt with heuristic value 304\n",
      "Exploring Würzburg with heuristic value 220\n",
      "Exploring Nürnberg with heuristic value 151\n",
      "Exploring München with heuristic value 0\n",
      "A goal has been found!\n",
      "Frankfurt\n",
      "├── Kassel\n",
      "├── Mannheim\n",
      "└── Würzburg\n",
      "    ├── Erfurt\n",
      "    └── Nürnberg\n",
      "        ├── München\n",
      "        └── Stuttgart\n",
      "\n",
      "Shortest path to a goal: ['Frankfurt', 'Würzburg', 'Nürnberg', 'München']\n"
     ]
    }
   ],
   "source": [
    "def is_goal(x):\n",
    "    return  x == \"München\"\n",
    "\n",
    "tree, node = greedy_best_first(\"Frankfurt\")\n",
    "tree.show()\n",
    "print(\"Shortest path to a goal:\", root_to_node_path(tree,node))"
   ]
  },
  {
   "cell_type": "markdown",
   "id": "d9fe9558",
   "metadata": {},
   "source": [
    "Similarly to DFS , greedy best first search is complete (always finds a goal node) when the graph is finite, but can miss the goal nodes in case of an infinite graph. \n",
    "\n",
    "The worst case time  complexity is $\\mathcal O(n)$ (where $n$ is the number nodes), because we might end up generating all graph nodes in the search tree, but with good heuristic functions can be decreased to $\\mathcal O (bd)$ where $b$ is the branching factor and $d$ is the depth of the search-tree."
   ]
  },
  {
   "cell_type": "markdown",
   "id": "a29c79f4",
   "metadata": {},
   "source": [
    "## A*"
   ]
  },
  {
   "cell_type": "markdown",
   "id": "3e097be1",
   "metadata": {},
   "source": [
    "One of the most important informed/heuristic search variants is the so-called $A*$ algorithm. In contrast to greedy best-first search, it uses the evaluation function\n",
    "\n",
    "$f(n) = g(n) + h(n)$\n",
    "\n",
    "where $h(\\cdot)$ is a heuristic function and $g(n)$ is the cost of the path from the initial/start node to $n$ in the search tree. \n",
    "\n",
    "A* has some attractive features:\n",
    "\n",
    "+ it is __complete__ for finite graphs, also\n",
    "+ guaranteed to terminate on infinite graphs if there is a solution and costs have a positive lower bound. \n",
    "\n",
    "and is also\n",
    "\n",
    "+ __optimal__ if the heuristic function satisfies certain conditions:\n",
    "\n"
   ]
  },
  {
   "cell_type": "markdown",
   "id": "a3b4c665",
   "metadata": {},
   "source": [
    "### Demonstration\n",
    "\n",
    "Dijkstra as baseline:\n",
    "\n",
    "<img src=\"http://drive.google.com/uc?export=view&id=1VxeAjUwo1dktPdj9rzJtpmW6xvctAdZC\" width=30%>\n",
    "\n",
    "\n",
    "And A*:\n",
    "\n",
    "<img src=\"http://drive.google.com/uc?export=view&id=1MZFUFlUj8jrNuapiBckWFY_KKiXGUaXI\" width=30%>\n",
    "\n"
   ]
  },
  {
   "cell_type": "markdown",
   "id": "87ba457b",
   "metadata": {},
   "source": [
    "## Finding heuristic functions\n",
    "\n",
    "Good heuristic functions reflect the nature of the problem in question, and thus are problem-specific. Still, there are some widely used general strategies to formulate heuristic functions:"
   ]
  },
  {
   "cell_type": "markdown",
   "id": "54b1183b",
   "metadata": {},
   "source": [
    "### Heuristics from subproblems/pattern databases\n",
    "\n",
    "Another frequently used approach is to store exact solution costs for subproblems, and use these subproblem costs as a heuristic function for full states. E.g., for the 15-puzzle a subproblem could just to move the tiles 1, 2, 3, 4 to the proper place."
   ]
  },
  {
   "cell_type": "markdown",
   "id": "14c34c8b",
   "metadata": {},
   "source": [
    "### Learning heuristic functions\n",
    "\n",
    "Last but not least, heuristic functions can be learned from solving a lot of concrete problems and using the optimal costs as data for supervised or reinforcement learning, e.g. using neural networks."
   ]
  }
 ],
 "metadata": {
  "kernelspec": {
   "display_name": "Python 3 (ipykernel)",
   "language": "python",
   "name": "python3"
  },
  "language_info": {
   "codemirror_mode": {
    "name": "ipython",
    "version": 3
   },
   "file_extension": ".py",
   "mimetype": "text/x-python",
   "name": "python",
   "nbconvert_exporter": "python",
   "pygments_lexer": "ipython3",
   "version": "3.8.12"
  }
 },
 "nbformat": 4,
 "nbformat_minor": 5
}
