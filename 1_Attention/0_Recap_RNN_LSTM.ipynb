{
 "cells": [
  {
   "cell_type": "markdown",
   "metadata": {},
   "source": [
    "<a id=\"basicrnn\"></a>\n",
    "# Basic recurrence \n"
   ]
  },
  {
   "cell_type": "markdown",
   "metadata": {},
   "source": [
    "## Recurrent neural networks\n",
    "\n",
    "### Motivation\n",
    "\n",
    "Our unquestioned assumption (that even caused some headache in the prior data preparation case) is that for every neural model the dimensionality of the input has to be fixed, or only small deviations were allowed (for example in ConvNets we could use some padding, but not too much).\n",
    "\n",
    "What if my data is not of uniform length, dynamically sized - for example because it comes from a (time) series of non-fixed or unknown length?\n",
    "\n",
    "Or as an alternative formulation of this: From  prior knowledge we know, that just as in case of ConvNets for spatial invariance, we have a time seris, that implies that has a temporal structure we would like to learn.\n",
    "\n",
    "As defined before, we interpret our data as time series in the form of $\\{x_{t_0}, x_{t_1}, x_{t_2} ... x_{t_n}\\}$."
   ]
  },
  {
   "cell_type": "markdown",
   "metadata": {},
   "source": [
    "### Structure of recurrent networks - \"classic\" or \"vanilla\" RNN\n",
    "\n",
    "We would like to define a neural network architecture, that in case of an input data point  $x_{t}$ can take into account the effect of prior datapoints without providing those as explicit inputs (as in the feedforward case), but as **(hidden) state**, using the activations of the NN itslef.\n",
    "\n",
    "Till this point we only used the activation for backpropagation, but now we'll use it also for something else.\n",
    "\n",
    "**Basic idea:**\n",
    "\n",
    "<a href=\"https://cdn-images-1.medium.com/max/1400/1*lQ4izz9ZbhKYD8NClZpsmQ.png\"><img src=\"https://drive.google.com/uc?export=view&id=197zCScRaBJypUb0giZzBh_0plHAOzlYJ\"></a>\n",
    "\n",
    "As a naive solution we could store the activations at $x_{t_-1}$ for all neurons and use a common $\\lambda$ \"dampening factor\" before adding them to the activations arising at $x_{t}$\n",
    "\n",
    "$$ f(x_t) = \\sigma(w x_t +\\lambda a_{t-1} + b)$$ \n",
    "\n",
    "This is not a complete recurrent network, but something along that direction (it's worth trying whether it works :-)\n",
    "\n",
    "But if we have a complete neural architecture with weight matrices, why shouldn't we do this in a more clever way?\n",
    "\n",
    "### Elman network\n",
    "\n",
    "The first real recurrent network:\n",
    "\n",
    "[Elman 1990](https://crl.ucsd.edu/~elman/Papers/fsit.pdf): \n",
    "Jeffrey L. Elman: Finding structure in time, Cognitive Science 14, p179-p211\n",
    "<a href=\"https://cdn-images-1.medium.com/max/1400/1*E6OMkLY8vbPdJ7b5R27FQA.jpeg\"><img src=\"https://drive.google.com/uc?export=view&id=17s60w9qBrwdrazopSAIPHjQ6ttiBgtTn\"></a>\n",
    "\n",
    "**The general notation for recurrent networks:**\n",
    "\n",
    "**$$h_t=\\sigma(Wx_t+Uh_{t-1})$$**\n",
    "\n",
    "\"Legend\":\n",
    "\n",
    "|Symbol| Meaning|\n",
    "|:---|:---|\n",
    "|$h_t$| \"hidden state\" at time $t$ |\n",
    "|$\\sigma$| activation function (typically sigmoid or tanh)|\n",
    "|$x_t$| input at time $t$ |\n",
    "|$W$| input to hidden weigth matrix|\n",
    "|$U$| hidden to hidden weigth matrix|\n",
    "|$h_{t-1}$| \"hidden state\" at time $t-1$ |\n",
    "\n",
    "\n",
    "**In this model we learn two weigth matrices $W$ and $U$.**\n",
    "\n",
    "Summary  [here](https://medium.com/lingvo-masino/introduction-to-recurrent-neural-network-d77a3fe2c56c)."
   ]
  },
  {
   "cell_type": "markdown",
   "metadata": {},
   "source": [
    "## Backpropagation through time (BPTT)\n",
    "\n",
    "Question: How can we teach recurrent neural networks?\n",
    "\n",
    "Luckily enough, the gradient based methods we have learned are appropriate for this - only with a slight modification.\n",
    "\n",
    "### \"Unrolling\"\n",
    "\n",
    "In order to understand the gradient calculation of recurrent nets we can imagine RNN-s as deep feedforward neural nets \"unrolled\" in time.\n",
    "\n",
    "<a href=\"https://cdn-images-1.medium.com/max/1400/1*icP_8Q-I87k4Nyq0vdSl8A.png\"><img src=\"https://drive.google.com/uc?export=view&id=1BvAx4puhnqLu0rLM6-7ZV2qzSAFeQwO7\"></a>\n",
    "\n",
    "This is all the more useful, since traditionally we implement RNN-s in this \"unrolled\" way. Nowdays this is not necessarily true, or at least depends on the framework we utilize for training, since some of them solves it with iterations.\n",
    "\n",
    "In the \"unrolled\" network $U$ and $W$ parameters are the same, so we can understand this as a form of \"weight sharing\", just as in case of ConvNets, but not through space, but through time.\n",
    "\n",
    "Sensible description [here](https://machinelearningmastery.com/gentle-introduction-backpropagation-time/).\n",
    "\n",
    "### Problems with this approach\n",
    "\n",
    "In default case we calculate through the whole unrolled network for each and every timestep.\n",
    "\n",
    "This has quite serious implications:\n",
    "1. We have to \"see\" the whole data at once (very \"un-streaming like\")\n",
    "2. The number of calculated gradients - thus the amount of calculation - rises exponentially with the length of the dataset. This easily makes training intractable."
   ]
  },
  {
   "cell_type": "markdown",
   "metadata": {},
   "source": [
    "<a id=\"vanish\"></a>\n",
    "# Exploding and vanishing gradients\n",
    "\n",
    "(The hard problems)\n",
    "\n",
    "<a href=\"http://www.wildml.com/wp-content/uploads/2015/10/rnn-bptt-with-gradients.png\"><img src=\"https://drive.google.com/uc?export=view&id=1IOC6XYlMRWRADH04Wh8iDVG1gXjTdeQA\" height=400 width=400></a>\n",
    "\n",
    "But the exploding computational need is just only one part of the problems with RNNs. Since they are extremely deep (in temporal sense) the gradient flow being propagated backward **\"vanishes\"** most of the time. In practice it results in the effect of signals far away in the past to disappear, as well as for convergence to grind to a halt.\n",
    "\n",
    "The flipside of this is the effect of **exploding gradients** where the gradient signal gets multiplied while moving backwards in time, getting practically infinite.\n",
    "\n",
    "These problems in practice are the same as in case of very deep feedforward networks.\n",
    "\n",
    "A good description can be found [here](http://www.wildml.com/2015/10/recurrent-neural-networks-tutorial-part-3-backpropagation-through-time-and-vanishing-gradients/)\n",
    "\n",
    "### Suggested solutions\n",
    "\n",
    "#### Careful initialization\n",
    "\n",
    "Multiple scholars, amongst them one of Hinton's famous collaborators Quoc Le suggested a solution for RNN-s composed of ReLU nodes whereby we initialize the $U$ matrix with a scaled version of the identity matrix.\n",
    "\n",
    "<a href=\"https://wikimedia.org/api/rest_v1/media/math/render/svg/e1a4218ab6975ad1809415aa168ab6371b91bafc\"><a href=\"http://drive.google.com/uc?export=view&id=1RPPmiqzRPY6uU5n0FLFjPgLFFaV0zn-C\"><img src=\"https://drive.google.com/uc?export=view&id=1m99E3knMZ4gmvD1UHlZiX-4jruXPVxy-\" width=450></a></a>\n",
    "\n",
    "Details can be found [here](https://arxiv.org/abs/1504.00941)\n",
    "\n",
    "#### Gradient clipping\n",
    "\n",
    "As the name implies, it is a procedure whereby we artificially limit, \"clip\" the gradients during backprop. This is kind of  a\"brute force\" and semi-effective solution.\n",
    "\n",
    "<a href=\"http://drive.google.com/uc?export=view&id=1jK47FvUp7TcUlB2hC4rWDXoxfQNrqhRr\"><img src=\"https://drive.google.com/uc?export=view&id=1MBc8Vx-1Iyeh0TwKxdKiJd37kn9bOyF9\" heigth=300 width=300></a>\n",
    "\n",
    "[Pascanu and Mikolov 2012](https://arxiv.org/pdf/1211.5063.pdf)\n",
    "\n",
    "\n",
    "#### Teacher forcing\n",
    "\n",
    "Originally, the concept was to let the hidden state of the network \"travel\" in time, so that during the learning procedure the network can learn to memorize relevant data. In practice, if we always feed back the prediction of the network to itself, it can \"drift away\" from target.\n",
    "\n",
    "Here is where teacher forcing comes in:\n",
    "\n",
    "\"Teacher forcing works by using the **actual or expected output from the training dataset** at the current time step $y_t$ as input in the next time step $X_{t+1}$, **rather than the output generated by the network $\\hat{y_t}$**.\"\n",
    "\n",
    "<a href=\"http://cnyah.com/2017/11/01/professor-forcing/non-teacher-teacher-forcing.png\"><img src=\"https://drive.google.com/uc?export=view&id=1zfWZRKEeHRevsa7l3PABGknZIl5TwfOh\" width=45%></a>\n",
    "\n",
    "Though in practice this makes convergence easier, but as a tradeoff it also limits the usage of memory capacity. It can work well with unbounded memory capacity models (see later).\n",
    "\n",
    "For it to work it is necessary for the data to be defined in each step.\n",
    "\n",
    "It can be considered a move away from the Recursive Multi-step Forecast strategy.\n",
    "\n",
    "A good walkthrough of teacher forcing can be found [here](https://machinelearningmastery.com/teacher-forcing-for-recurrent-neural-networks/).\n",
    "\n",
    "#### Truncated BPTT\n",
    "\n",
    "The main idea of this approach is that we should not be so fanaticly following signals back into the past, we can do $k1$ steps of forward passes, then do backprop only for the last $k2$ steps back in time, that is:\n",
    "- We show $k1$ steps for the network\n",
    "- We unroll the net and calculate $k2$ steps back and aggregate gradients\n",
    "- We roll up the net and update weigths\n",
    "\n",
    "**Two parameters:**\n",
    "- $k1$ decides how many forward passes happen between backprops (kind of \"batch size\") and influences the speed of training (as well as many other factors, **for the newest research in regard to batch size see: [Smith, Kindermans, Ying and Lee 2017](https://arxiv.org/abs/1711.00489)**\n",
    "- $k2$ influences the temporal depth of backprop. If too small, our \"window\" will not contain all relevant timesteps, if too big, gradients can vanish.\n",
    "\n",
    "A nice summary again [here](https://machinelearningmastery.com/gentle-introduction-backpropagation-time/).\n",
    "\n",
    "**Notice, that we could not effectively get rid of those ugly windows!!**"
   ]
  },
  {
   "cell_type": "markdown",
   "metadata": {},
   "source": [
    "If someone would like to analyse a TensorFlow RNN implementation in detail, it can be done [here](https://www.kdnuggets.com/2017/04/build-recurrent-neural-network-tensorflow.html).\n",
    "\n",
    "##### Fair warning:\n",
    "\n",
    "Though BPTT would be a theoretically more sound solution, practically it is quite unfeasible. And event he truncated version is implemented sometimes in really strange ways, eg. not letting you control over $k1$ and $k2$ separately, so in practice, much of the potential of LSTM-s may get \"sabotaged\".\n",
    "\n",
    "For example you can read about the struggles with Truncated BPTT in Keras [here](https://machinelearningmastery.com/truncated-backpropagation-through-time-in-keras/). \n"
   ]
  },
  {
   "cell_type": "markdown",
   "metadata": {},
   "source": [
    "<a id=\"lstm\"></a>\n",
    "# Long short-term memory networks (LSTM)\n",
    "\n",
    "Get ready to be Schmidhubered! :-)\n",
    "\n",
    "<a href=\"https://www.xing.com/img/custom/content/klartext/asset_images/images/000/157/804/x137/image.png?1453288186\"><img src=\"https://drive.google.com/uc?export=view&id=1Ea5cmpxJnHZmZTPNO2DwVr7rfxMAw_wi\"></a>\n",
    "\n",
    "Or more famously [Hochreiter and Schmidhuber 1997](http://www.bioinf.jku.at/publications/older/2604.pdf), in which the heroes are strongly inspired by human short term memory, and would like to create a network which can store signals for arbitrary, but learned length of time, enabling it to effectively infinitely \"memorize\" them.\n",
    "\n",
    "(The joke term \"to be Schmidhubered\" comes from the fact that Prof. Schmidhuber has a long time feud with the Hinton group, and he tries to diminish the importance of their findings, claiming that others - amongst them he-  invented key methods before the \"deep learning conspiracy\". Disturbingly he is sometimes even right. see [this](http://people.idsia.ch/~juergen/deep-learning-conspiracy.html) :-)"
   ]
  },
  {
   "cell_type": "markdown",
   "metadata": {},
   "source": [
    "## Architecture\n",
    "\n",
    "**Gold standard explanation: [Colah's Blog](https://colah.github.io/posts/2015-08-Understanding-LSTMs/)** The personal blog of the researcher Chris Olah.\n",
    "\n",
    "<a href=\"https://colah.github.io/posts/2015-08-Understanding-LSTMs/img/LSTM3-chain.png\"><img src=\"https://drive.google.com/uc?export=view&id=1UOtmNeaimbcn3H7CBSeIUfOcjRaubXgY\" heigth=300 width=600></a>\n",
    "\n",
    "### Preliminaries\n",
    "\n",
    "Cell state \"travels\" through the process.\n",
    "<a href=\"https://colah.github.io/posts/2015-08-Understanding-LSTMs/img/LSTM3-C-line.png\"><img src=\"https://drive.google.com/uc?export=view&id=1IQEqkYz9ThTT1p_9EnO1NJ8xVLQwRsDv\"></a>\n",
    "\n",
    "\"Gates\" are to be understood as combinations of non-linearities (sigmoid or tanh) and pointwise operations (addition or multiplication).\n",
    "\n",
    "<a href=\"https://colah.github.io/posts/2015-08-Understanding-LSTMs/img/LSTM3-gate.png\"><img src=\"https://drive.google.com/uc?export=view&id=1tUFbRRllulugrK5OBmPGBVidOnqUIMWF\"></a>\n",
    "\n",
    "**Some help: Let us imagine if a vector gets multiplied pointwise with something between 0 and 1, this is equivalent to \"deleting\" (0) or \"leaving intact\" (1) some parts of the data.**\n",
    "\n",
    "### 1. step: What would we like to \"forget\"?\n",
    "\n",
    "<a href=\"https://colah.github.io/posts/2015-08-Understanding-LSTMs/img/LSTM3-focus-f.png\"><img src=\"https://drive.google.com/uc?export=view&id=1J1_LbATvWLASY4OJsJ95txk9SCWjeYHR\"></a>\n",
    "\n",
    "### 2. step: What and where would we like to store?\n",
    "\n",
    "<a href=\"https://colah.github.io/posts/2015-08-Understanding-LSTMs/img/LSTM3-focus-i.png\"><img src=\"https://drive.google.com/uc?export=view&id=1ZpIjdziGKlIacF4M7GpO9GRvxVPxGK7j\"></a>\n",
    "\n",
    "### 3. step: Update the cell state!\n",
    "\n",
    "<a href=\"https://colah.github.io/posts/2015-08-Understanding-LSTMs/img/LSTM3-focus-C.png\"><img src=\"https://drive.google.com/uc?export=view&id=1jjM4MSIqgqNIz69K4jQUZtVjzTskezF_\"></a>\n",
    "\n",
    "### 4. step: Choose and produce the output!\n",
    "\n",
    "<a href=\"https://colah.github.io/posts/2015-08-Understanding-LSTMs/img/LSTM3-focus-o.png\"><img src=\"https://drive.google.com/uc?export=view&id=1_gjSEe6CW1yc_QTCPhGEqM5Bst3D0SId\"></a>\n",
    "\n",
    "#### Alternative explanation [here](http://adventuresinmachinelearning.com/recurrent-neural-networks-lstm-tutorial-tensorflow/)\n",
    "\n",
    "This may be worth reading through, since it shows in detail each vector's dimensionality."
   ]
  },
  {
   "cell_type": "markdown",
   "metadata": {},
   "source": [
    "#### Animated illustration\n",
    "\n",
    "<a href=\"https://miro.medium.com/max/1425/1*GjehOa513_BgpDDP6Vkw2Q.gif\"><img src=\"https://drive.google.com/uc?export=view&id=1w42nZqQKTl8Mqsc0PTTOk0GAyvNizixi\" width=75%></a>\n",
    "<a href=\"https://miro.medium.com/max/1425/1*TTmYy7Sy8uUXxUXfzmoKbA.gif\"><img src=\"https://drive.google.com/uc?export=view&id=1pPO0OsgGRjJsjTCDSTJanmZMc_k7zKqn\" width=75%></a>\n",
    "<a href=\"https://miro.medium.com/max/1425/1*S0rXIeO_VoUVOyrYHckUWg.gif\"><img src=\"https://drive.google.com/uc?export=view&id=1T5USGg1LHTFkWQcTVulrcfmH3GjbMWcm\" width=75%></a>\n",
    "<a href=\"https://miro.medium.com/max/1425/1*VOXRGhOShoWWks6ouoDN3Q.gif\"><img src=\"https://drive.google.com/uc?export=view&id=1hsXLmHrT6pKG1iVr9Ccav4HrU7woBFuW\" width=75%></a>\n",
    "\n",
    "[source](https://towardsdatascience.com/illustrated-guide-to-lstms-and-gru-s-a-step-by-step-explanation-44e9eb85bf21)"
   ]
  },
  {
   "cell_type": "markdown",
   "metadata": {},
   "source": [
    "## Properties\n",
    "\n",
    "- \"Unreasonably effective\" Andrej Karpathy's famous blogpost [here](https://karpathy.github.io/2015/05/21/rnn-effectiveness/)\n",
    "\n",
    "\n",
    "- Not jsut effective, but \"Turing complete\"\n",
    "\n",
    "Based on this Jann LeCun (the pioneer of \"backpropaganda\" and big name in ConvNets) talks not just about \"deep learning\", but \"differentiable computing\". LSTM blocks combined - amongst themselves or ConvNets, seq2seq models or memory networks (see later) are making this position more and more plausible.)\n",
    "\n",
    "- It's inner state can effectively summarize long sequences of signals\n",
    "\n",
    "We can imagine it that way, as the final hidden state of activation of an LSTM at the end of a sequence is the dense vector representation summarizing the totality of singals for that sequence. This is a _huge_ advantage for us (for sequence classification or for more advanced operations - see seqseq class).\n",
    "\n",
    "- Does not formally solve exploding gradients, but for that we have brute force grad clipping."
   ]
  },
  {
   "cell_type": "markdown",
   "metadata": {
    "colab_type": "text",
    "id": "R8IYutdnW_SG"
   },
   "source": [
    "## LSTM as layers\n",
    "\n",
    "+ An LSTM - how ever strange that may sound - can be considered to be a complete layer. The most important parameter of it is the \"number of (memory) units\", which is the length of the hidden state vector, thus, the memory capacity. **Warning: this does not have any relationship to input size, thus can be considered a freely chosen parameter.**\n",
    "+ It is quite widespread to use multiple LSTM layers (\"stacked LSTMs\") -- as in the case of ConvNets the hope is, that the layers learn a hierarchy of abstract representations:\n",
    "\n",
    "<a href=\"http://wenchenli.github.io/assets/img/GNMT_residual.png\"><img src=\"https://drive.google.com/uc?export=view&id=1cbf6VvnPTkQwJZjv2jZfpC2-w3zxLSbq\" width=60%></a>\n",
    "\n",
    "(on the right side a network is shown with skip/residual connections!)\n",
    "\n",
    "In this case it makes sense, that we do not only get on top of the LSTM a final prediction $h$ (or even prediction + inner state vector $c$) for a sequence, but **we ask it to output the whole sequence of predictions**, so that the next layer can also operate on full sequences. Please bear this in mind during implementation, since this can be a common source of failure.  \n",
    "\n",
    "Also worth noting, that the practicality of multi layer LSTMs have been recently questioned by some researchers, since they aruge, that one layer of LSTM can learn nearly everything a multi layer one can in practice - given the right \"treatment\". See more [here]( https://arxiv.org/abs/1909.00021)."
   ]
  },
  {
   "cell_type": "markdown",
   "metadata": {},
   "source": [
    "## Basic LSTM example\n",
    "\n",
    "Let us go through a **basic** LSTM  example based on a [publicly available property manintenance dataset](# https://combed.github.io/).\n",
    "\n",
    "**This is _not_ a full datascience project, only the demonstration of some data preparation and training concepts!**"
   ]
  },
  {
   "cell_type": "code",
   "execution_count": 13,
   "metadata": {
    "ExecuteTime": {
     "end_time": "2020-05-27T17:05:43.382488Z",
     "start_time": "2020-05-27T17:05:42.351439Z"
    }
   },
   "outputs": [
    {
     "name": "stdout",
     "output_type": "stream",
     "text": [
      "--2020-05-27 19:05:42--  https://gitlab.com/andras.simonyi/10_days_AI_training_data/raw/master/Power.csv?inline=false\n",
      "Resolving gitlab.com (gitlab.com)... 172.65.251.78\n",
      "Connecting to gitlab.com (gitlab.com)|172.65.251.78|:443... connected.\n",
      "HTTP request sent, awaiting response... 200 OK\n",
      "Length: unspecified [text/plain]\n",
      "Saving to: ‘Power.csv’\n",
      "\n",
      "Power.csv               [  <=>               ]   2.98M  7.74MB/s    in 0.4s    \n",
      "\n",
      "2020-05-27 19:05:43 (7.74 MB/s) - ‘Power.csv’ saved [3128452]\n",
      "\n"
     ]
    }
   ],
   "source": [
    "!wget https://gitlab.com/andras.simonyi/10_days_AI_training_data/raw/master/Power.csv?inline=false -O Power.csv"
   ]
  },
  {
   "cell_type": "code",
   "execution_count": 14,
   "metadata": {
    "ExecuteTime": {
     "end_time": "2020-05-27T17:05:43.421042Z",
     "start_time": "2020-05-27T17:05:43.385299Z"
    },
    "scrolled": true
   },
   "outputs": [
    {
     "data": {
      "text/html": [
       "<div>\n",
       "<style scoped>\n",
       "    .dataframe tbody tr th:only-of-type {\n",
       "        vertical-align: middle;\n",
       "    }\n",
       "\n",
       "    .dataframe tbody tr th {\n",
       "        vertical-align: top;\n",
       "    }\n",
       "\n",
       "    .dataframe thead th {\n",
       "        text-align: right;\n",
       "    }\n",
       "</style>\n",
       "<table border=\"1\" class=\"dataframe\">\n",
       "  <thead>\n",
       "    <tr style=\"text-align: right;\">\n",
       "      <th></th>\n",
       "      <th>Timestamp</th>\n",
       "      <th>Power</th>\n",
       "    </tr>\n",
       "  </thead>\n",
       "  <tbody>\n",
       "    <tr>\n",
       "      <th>0</th>\n",
       "      <td>1.401595e+12</td>\n",
       "      <td>58.694874</td>\n",
       "    </tr>\n",
       "    <tr>\n",
       "      <th>1</th>\n",
       "      <td>1.401595e+12</td>\n",
       "      <td>58.465698</td>\n",
       "    </tr>\n",
       "    <tr>\n",
       "      <th>2</th>\n",
       "      <td>1.401595e+12</td>\n",
       "      <td>58.090099</td>\n",
       "    </tr>\n",
       "    <tr>\n",
       "      <th>3</th>\n",
       "      <td>1.401595e+12</td>\n",
       "      <td>58.260864</td>\n",
       "    </tr>\n",
       "    <tr>\n",
       "      <th>4</th>\n",
       "      <td>1.401595e+12</td>\n",
       "      <td>58.002567</td>\n",
       "    </tr>\n",
       "  </tbody>\n",
       "</table>\n",
       "</div>"
      ],
      "text/plain": [
       "      Timestamp      Power\n",
       "0  1.401595e+12  58.694874\n",
       "1  1.401595e+12  58.465698\n",
       "2  1.401595e+12  58.090099\n",
       "3  1.401595e+12  58.260864\n",
       "4  1.401595e+12  58.002567"
      ]
     },
     "execution_count": 14,
     "metadata": {},
     "output_type": "execute_result"
    }
   ],
   "source": [
    "# Source: Dataset / Academic / Power sockets / 3\n",
    "\n",
    "df = pd.read_csv(\"Power.csv\", header=None)\n",
    "df.columns = [\"Timestamp\",\"Power\"]\n",
    "df.head()"
   ]
  },
  {
   "cell_type": "code",
   "execution_count": 15,
   "metadata": {
    "ExecuteTime": {
     "end_time": "2020-05-27T17:05:43.556173Z",
     "start_time": "2020-05-27T17:05:43.422885Z"
    },
    "scrolled": true
   },
   "outputs": [
    {
     "data": {
      "image/png": "[encoded data removed]",
      "text/plain": [
       "<Figure size 432x288 with 1 Axes>"
      ]
     },
     "metadata": {
      "needs_background": "light"
     },
     "output_type": "display_data"
    }
   ],
   "source": [
    "df.Power.plot()\n",
    "plt.show()"
   ]
  },
  {
   "cell_type": "code",
   "execution_count": 16,
   "metadata": {
    "ExecuteTime": {
     "end_time": "2020-05-27T17:05:43.560275Z",
     "start_time": "2020-05-27T17:05:43.557284Z"
    },
    "scrolled": true
   },
   "outputs": [
    {
     "name": "stdout",
     "output_type": "stream",
     "text": [
      "Shape:  (86200, 2)\n"
     ]
    }
   ],
   "source": [
    "print(\"Shape: \",df.shape)"
   ]
  },
  {
   "cell_type": "code",
   "execution_count": 17,
   "metadata": {
    "ExecuteTime": {
     "end_time": "2020-05-27T17:05:45.150845Z",
     "start_time": "2020-05-27T17:05:43.561360Z"
    },
    "scrolled": false
   },
   "outputs": [
    {
     "data": {
      "image/png": "[encoded data removed]",
      "text/plain": [
       "<Figure size 432x288 with 1 Axes>"
      ]
     },
     "metadata": {
      "needs_background": "light"
     },
     "output_type": "display_data"
    },
    {
     "data": {
      "image/png": "[encoded data removed]",
      "text/plain": [
       "<Figure size 432x288 with 1 Axes>"
      ]
     },
     "metadata": {
      "needs_background": "light"
     },
     "output_type": "display_data"
    },
    {
     "name": "stdout",
     "output_type": "stream",
     "text": [
      "---\n"
     ]
    }
   ],
   "source": [
    "from statsmodels.graphics.tsaplots import plot_pacf, plot_acf\n",
    "\n",
    "plot_acf(df.Power, lags=100, zero=False)\n",
    "plot_pacf(df.Power, lags=100, zero=False)\n",
    "plt.show()\n",
    "print(\"---\")"
   ]
  },
  {
   "cell_type": "code",
   "execution_count": 18,
   "metadata": {
    "ExecuteTime": {
     "end_time": "2020-05-27T17:05:46.511359Z",
     "start_time": "2020-05-27T17:05:45.151969Z"
    }
   },
   "outputs": [],
   "source": [
    "!pip install seglearn > /dev/null"
   ]
  },
  {
   "cell_type": "code",
   "execution_count": 19,
   "metadata": {
    "ExecuteTime": {
     "end_time": "2020-05-27T17:05:46.515164Z",
     "start_time": "2020-05-27T17:05:46.512736Z"
    }
   },
   "outputs": [],
   "source": [
    "VALID_AND_TEST_SIZE = 0.1\n",
    "TIME_WINDOW=100\n",
    "FORECAST_DISTANCE=1"
   ]
  },
  {
   "cell_type": "markdown",
   "metadata": {},
   "source": [
    "### Doing train-valid-test split."
   ]
  },
  {
   "cell_type": "code",
   "execution_count": 20,
   "metadata": {
    "ExecuteTime": {
     "end_time": "2020-05-27T17:05:46.524801Z",
     "start_time": "2020-05-27T17:05:46.516853Z"
    }
   },
   "outputs": [],
   "source": [
    "from sklearn.model_selection import train_test_split\n",
    "\n",
    "X_train, X_else = train_test_split(df.Power, test_size=VALID_AND_TEST_SIZE*2, shuffle=False)\n",
    "X_valid, X_test= train_test_split(X_else, test_size=0.5, shuffle=False)"
   ]
  },
  {
   "cell_type": "markdown",
   "metadata": {},
   "source": [
    "### Rolling window\n",
    "\n",
    "Using the wonderful [seglearn](https://dmbee.github.io/seglearn/) library to generate rolling windows from the training data."
   ]
  },
  {
   "cell_type": "code",
   "execution_count": 21,
   "metadata": {
    "ExecuteTime": {
     "end_time": "2020-05-27T17:05:46.742494Z",
     "start_time": "2020-05-27T17:05:46.528138Z"
    }
   },
   "outputs": [],
   "source": [
    "from seglearn.transform import FeatureRep, SegmentXYForecast, last\n",
    "\n",
    "segmenter = SegmentXYForecast(width=TIME_WINDOW, step=1, y_func=last, forecast=FORECAST_DISTANCE)\n",
    "\n",
    "X_train_rolled, y_train_rolled,_=segmenter.fit_transform([X_train.values.flatten()],[X_train.values.flatten()])\n",
    "X_valid_rolled, y_valid_rolled,_=segmenter.fit_transform([X_valid.values.flatten()],[X_valid.values.flatten()])\n",
    "X_test_rolled, y_test_rolled,_=segmenter.fit_transform([X_test.values.flatten()],[X_test.values.flatten()])"
   ]
  },
  {
   "cell_type": "code",
   "execution_count": 22,
   "metadata": {
    "ExecuteTime": {
     "end_time": "2020-05-27T17:05:46.753547Z",
     "start_time": "2020-05-27T17:05:46.748858Z"
    }
   },
   "outputs": [
    {
     "data": {
      "text/plain": [
       "((68860, 100), (68860,))"
      ]
     },
     "execution_count": 22,
     "metadata": {},
     "output_type": "execute_result"
    }
   ],
   "source": [
    "X_train_rolled.shape, y_train_rolled.shape"
   ]
  },
  {
   "cell_type": "code",
   "execution_count": 23,
   "metadata": {
    "ExecuteTime": {
     "end_time": "2020-05-27T17:05:46.759958Z",
     "start_time": "2020-05-27T17:05:46.755409Z"
    }
   },
   "outputs": [],
   "source": [
    "np.testing.assert_equal(X_train[:TIME_WINDOW].values,X_train_rolled[0])"
   ]
  },
  {
   "cell_type": "code",
   "execution_count": 24,
   "metadata": {
    "ExecuteTime": {
     "end_time": "2020-05-27T17:05:46.772553Z",
     "start_time": "2020-05-27T17:05:46.766777Z"
    }
   },
   "outputs": [],
   "source": [
    "np.testing.assert_equal(X_train[TIME_WINDOW-1+FORECAST_DISTANCE],y_train_rolled[0])"
   ]
  },
  {
   "cell_type": "code",
   "execution_count": 25,
   "metadata": {
    "ExecuteTime": {
     "end_time": "2020-05-27T17:05:46.786956Z",
     "start_time": "2020-05-27T17:05:46.777688Z"
    }
   },
   "outputs": [],
   "source": [
    "# Warning, Keras needs a 1D matrix, not a vector, so one must do:\n",
    "\n",
    "X_train_rolled = X_train_rolled[:,:, np.newaxis]\n",
    "X_valid_rolled = X_valid_rolled[:,:, np.newaxis]\n",
    "X_test_rolled = X_test_rolled[:,:, np.newaxis]"
   ]
  },
  {
   "cell_type": "code",
   "execution_count": 46,
   "metadata": {
    "ExecuteTime": {
     "end_time": "2020-05-27T17:27:37.313391Z",
     "start_time": "2020-05-27T17:27:37.310265Z"
    },
    "scrolled": true
   },
   "outputs": [],
   "source": [
    "#---- Hyperparams and settings ----\n",
    "\n",
    "EPOCHS = 30\n",
    "BATCH_SIZE = 200\n",
    "LEARNING_RATE = 0.1\n",
    "LSTM_CELL_SIZE = 300"
   ]
  },
  {
   "cell_type": "code",
   "execution_count": 47,
   "metadata": {
    "ExecuteTime": {
     "end_time": "2020-05-27T17:47:20.013112Z",
     "start_time": "2020-05-27T17:27:39.376598Z"
    }
   },
   "outputs": [
    {
     "name": "stdout",
     "output_type": "stream",
     "text": [
      "Train on 68860 samples, validate on 8520 samples\n",
      "Epoch 1/30\n",
      "68860/68860 [==============================] - 48s 691us/sample - loss: 5884.7970 - val_loss: 6182.0641\n",
      "Epoch 2/30\n",
      "68860/68860 [==============================] - 39s 570us/sample - loss: 4643.1830 - val_loss: 5918.2724\n",
      "Epoch 3/30\n",
      "68860/68860 [==============================] - 39s 562us/sample - loss: 4318.2682 - val_loss: 5540.1538\n",
      "Epoch 4/30\n",
      "68860/68860 [==============================] - 39s 570us/sample - loss: 3836.3652 - val_loss: 5271.9356\n",
      "Epoch 5/30\n",
      "68860/68860 [==============================] - 39s 568us/sample - loss: 3569.0519 - val_loss: 5015.1448\n",
      "Epoch 6/30\n",
      "68860/68860 [==============================] - 39s 564us/sample - loss: 3232.4642 - val_loss: 4886.2774\n",
      "Epoch 7/30\n",
      "68860/68860 [==============================] - 39s 563us/sample - loss: 3105.7792 - val_loss: 4721.2178\n",
      "Epoch 8/30\n",
      "68860/68860 [==============================] - 39s 571us/sample - loss: 3018.6925 - val_loss: 4697.4197\n",
      "Epoch 9/30\n",
      "68860/68860 [==============================] - 39s 564us/sample - loss: 3026.8636 - val_loss: 4450.6331\n",
      "Epoch 10/30\n",
      "68860/68860 [==============================] - 39s 562us/sample - loss: 2890.5721 - val_loss: 4336.2533\n",
      "Epoch 11/30\n",
      "68860/68860 [==============================] - 39s 561us/sample - loss: 2829.0153 - val_loss: 4285.8083\n",
      "Epoch 12/30\n",
      "68860/68860 [==============================] - 39s 565us/sample - loss: 2830.5372 - val_loss: 4255.6133\n",
      "Epoch 13/30\n",
      "68860/68860 [==============================] - 39s 567us/sample - loss: 2798.0879 - val_loss: 4152.3123\n",
      "Epoch 14/30\n",
      "68860/68860 [==============================] - 39s 564us/sample - loss: 2769.2539 - val_loss: 4090.3308\n",
      "Epoch 15/30\n",
      "68860/68860 [==============================] - 38s 558us/sample - loss: 2763.0400 - val_loss: 4087.6195\n",
      "Epoch 16/30\n",
      "68860/68860 [==============================] - 39s 567us/sample - loss: 2683.6863 - val_loss: 4015.5208\n",
      "Epoch 17/30\n",
      "68860/68860 [==============================] - 39s 572us/sample - loss: 2792.8153 - val_loss: 3970.1660\n",
      "Epoch 18/30\n",
      "68860/68860 [==============================] - 39s 564us/sample - loss: 2677.5659 - val_loss: 3851.6496\n",
      "Epoch 19/30\n",
      "68860/68860 [==============================] - 40s 574us/sample - loss: 2584.1078 - val_loss: 3819.8127\n",
      "Epoch 20/30\n",
      "68860/68860 [==============================] - 39s 573us/sample - loss: 2596.3597 - val_loss: 3696.0231\n",
      "Epoch 21/30\n",
      "68860/68860 [==============================] - 40s 578us/sample - loss: 2549.9657 - val_loss: 3675.1453\n",
      "Epoch 22/30\n",
      "68860/68860 [==============================] - 39s 573us/sample - loss: 2689.3426 - val_loss: 3635.9200\n",
      "Epoch 23/30\n",
      "68860/68860 [==============================] - 40s 574us/sample - loss: 2607.7090 - val_loss: 3570.8580\n",
      "Epoch 24/30\n",
      "68860/68860 [==============================] - 40s 578us/sample - loss: 2523.6084 - val_loss: 3537.7293\n",
      "Epoch 25/30\n",
      "68860/68860 [==============================] - 39s 565us/sample - loss: 2522.6261 - val_loss: 3461.3199\n",
      "Epoch 26/30\n",
      "68860/68860 [==============================] - 39s 560us/sample - loss: 2573.4749 - val_loss: 3513.3092\n",
      "Epoch 27/30\n",
      "68860/68860 [==============================] - 39s 562us/sample - loss: 2503.8907 - val_loss: 3366.3609\n",
      "Epoch 28/30\n",
      "68860/68860 [==============================] - 39s 567us/sample - loss: 2403.2628 - val_loss: 3317.9476\n",
      "Epoch 29/30\n",
      "68860/68860 [==============================] - 39s 565us/sample - loss: 2301.4730 - val_loss: 3203.0238\n",
      "Epoch 30/30\n",
      "68860/68860 [==============================] - 39s 562us/sample - loss: 2260.4253 - val_loss: 3196.2645\n"
     ]
    }
   ],
   "source": [
    "from tensorflow.keras import Model\n",
    "from tensorflow.keras.layers import Dense, LSTM, Input\n",
    "from tensorflow.keras import backend as be\n",
    "from tensorflow.keras.callbacks import ModelCheckpoint\n",
    "from tensorflow.keras.optimizers import Adam\n",
    "\n",
    "column_count=1\n",
    "\n",
    "be.clear_session()\n",
    "\n",
    "input_layer = Input(shape=(TIME_WINDOW,column_count))\n",
    "\n",
    "lstm_layer = LSTM(LSTM_CELL_SIZE)(input_layer)\n",
    "dense_layer = Dense(1)(lstm_layer)\n",
    "\n",
    "model = Model(inputs=input_layer, outputs=dense_layer)\n",
    "\n",
    "optimizer = Adam(learning_rate=LEARNING_RATE)\n",
    "\n",
    "model.compile(loss='mean_squared_error', optimizer=optimizer)\n",
    "\n",
    "history = model.fit(x=X_train_rolled,y=y_train_rolled, batch_size=BATCH_SIZE, validation_data=(X_valid_rolled,y_valid_rolled), epochs=EPOCHS, verbose=1, shuffle=False)\n",
    "\n"
   ]
  },
  {
   "cell_type": "code",
   "execution_count": 48,
   "metadata": {
    "ExecuteTime": {
     "end_time": "2020-05-27T17:47:20.785872Z",
     "start_time": "2020-05-27T17:47:20.418603Z"
    }
   },
   "outputs": [
    {
     "data": {
      "image/png": "[encoded data removed]",
      "text/plain": [
       "<Figure size 432x288 with 1 Axes>"
      ]
     },
     "metadata": {
      "needs_background": "light"
     },
     "output_type": "display_data"
    }
   ],
   "source": [
    "import matplotlib.pyplot as plt\n",
    "plt.plot(history.history[\"loss\"], label=\"loss\")\n",
    "plt.plot(history.history[\"val_loss\"], label=\"val_loss\")\n",
    "plt.legend()\n",
    "plt.show()"
   ]
  },
  {
   "cell_type": "code",
   "execution_count": 49,
   "metadata": {
    "ExecuteTime": {
     "end_time": "2020-05-27T17:47:25.916627Z",
     "start_time": "2020-05-27T17:47:21.221977Z"
    }
   },
   "outputs": [],
   "source": [
    "predictions = model.predict(X_test_rolled).flatten()"
   ]
  },
  {
   "cell_type": "code",
   "execution_count": 50,
   "metadata": {
    "ExecuteTime": {
     "end_time": "2020-05-27T17:47:26.638783Z",
     "start_time": "2020-05-27T17:47:26.262070Z"
    }
   },
   "outputs": [
    {
     "data": {
      "image/png": "[encoded data removed]",
      "text/plain": [
       "<Figure size 432x288 with 1 Axes>"
      ]
     },
     "metadata": {
      "needs_background": "light"
     },
     "output_type": "display_data"
    }
   ],
   "source": [
    "plt.close()\n",
    "plt.plot(list(X_test[100:]), label=\"Test\")\n",
    "plt.plot(list(predictions), label=\"Predictions\")\n",
    "plt.legend()\n",
    "plt.show()"
   ]
  },
  {
   "cell_type": "markdown",
   "metadata": {},
   "source": [
    "## How is this model to be improved?\n",
    "\n",
    "In many ways this model is too basic, needs heavy improvement.\n",
    "\n",
    "1. Let it run further\n",
    "2. Does not use regularization at all, Dropout should be added. The question is where to put it in RNNs, for this see [here](http://dx.doi.org/10.1109/ICDAR.2015.7333848) and [here](https://arxiv.org/abs/1512.05287)\n",
    "3. Should use some data normalization, details can be found [here](https://machinelearningmastery.com/normalize-standardize-time-series-data-python/)\n",
    "4. Usage of squared loss is also questionable\n",
    "5. It does not solve the transfer of inner **states between minibatches** and on epoch begin (called \"statefulness\" and \"warmup\" respectively). Tips for **Warmup** [here](https://arxiv.org/pdf/1710.03222.pdf), for statefullness [here](https://stackoverflow.com/questions/38241410/tensorflow-remember-lstm-state-for-next-batch-stateful-lstm?utm_medium=organic&utm_source=google_rich_qa&utm_campaign=google_rich_qa)\n",
    "6. Hyperparameters could be optimized manually or with search techniques\n",
    "7. Multiple LSTM layers can be stacked upon each-other\n",
    "\n",
    "As said, a really basic model..."
   ]
  }
 ],
 "metadata": {
  "kernelspec": {
   "display_name": "Python 3 (ipykernel)",
   "language": "python",
   "name": "python3"
  },
  "language_info": {
   "codemirror_mode": {
    "name": "ipython",
    "version": 3
   },
   "file_extension": ".py",
   "mimetype": "text/x-python",
   "name": "python",
   "nbconvert_exporter": "python",
   "pygments_lexer": "ipython3",
   "version": "3.8.12"
  },
  "toc": {
   "base_numbering": 1,
   "nav_menu": {},
   "number_sections": true,
   "sideBar": true,
   "skip_h1_title": false,
   "title_cell": "Table of Contents",
   "title_sidebar": "Contents",
   "toc_cell": false,
   "toc_position": {},
   "toc_section_display": true,
   "toc_window_display": false
  },
  "varInspector": {
   "cols": {
    "lenName": 16,
    "lenType": 16,
    "lenVar": 40
   },
   "kernels_config": {
    "python": {
     "delete_cmd_postfix": "",
     "delete_cmd_prefix": "del ",
     "library": "var_list.py",
     "varRefreshCmd": "print(var_dic_list())"
    },
    "r": {
     "delete_cmd_postfix": ") ",
     "delete_cmd_prefix": "rm(",
     "library": "var_list.r",
     "varRefreshCmd": "cat(var_dic_list()) "
    }
   },
   "types_to_exclude": [
    "module",
    "function",
    "builtin_function_or_method",
    "instance",
    "_Feature"
   ],
   "window_display": false
  }
 },
 "nbformat": 4,
 "nbformat_minor": 2
}
